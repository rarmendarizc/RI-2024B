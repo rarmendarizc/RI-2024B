{
  "cells": [
    {
      "metadata": {
        "id": "ff698db4c87d7582"
      },
      "cell_type": "markdown",
      "source": [
        "# Ejercicio 04: Evaluación de un Sistema de Recuperación de Información\n",
        "\n",
        "Integrantes: Rossy Armendariz, Alejandro Chavez, Javier Quishpe.\n",
        "\n",
        "El objetivo de este ejercicio es evaluar la efectividad de un sistema de recuperación de información utilizando métricas como *precisión*, *recall*, *F1-score*, *Mean Average Precision (MAP)* y *Normalized Discounted Cumulative Gain (nDCG)*.\n",
        "\n",
        "Seguirás los siguientes pasos:"
      ],
      "id": "ff698db4c87d7582"
    },
    {
      "metadata": {
        "id": "a79fed129105d246"
      },
      "cell_type": "markdown",
      "source": [
        "Descripción del Ejercicio\n",
        "\n",
        "1. Proporcionar un Conjunto de Datos:\n",
        "    * Corpus de Documentos: Utiliza el corpus del ejercicio anterior o un nuevo conjunto de documentos.\n",
        "    * Consultas: Define un conjunto de consultas específicas.\n",
        "    * Juicios de Relevancia: Proporciona una lista de qué documentos son relevantes para cada consulta.\n",
        "\n",
        "2. Calcular Resultados de Búsqueda:\n",
        "    * Obten los resultados ordenados de dos sistemas de recuperación para cada consulta.\n",
        "\n",
        "3. Calcular las Métricas de Evaluación:\n",
        "    * Calcular las siguientes métricas para cada sistema y consulta:\n",
        "        * Precisión en el top-k (Prec@k)\n",
        "        * Recall\n",
        "        * F1-score\n",
        "        * Mean Average Precision (MAP)\n",
        "        * nDCG\n",
        "\n",
        "4. Análisis y Comparación:\n",
        "    * Comparar los resultados de los dos sistemas utilizando las métricas calculadas.\n",
        "    * Discutir cuál sistema es más efectivo y por qué."
      ],
      "id": "a79fed129105d246"
    },
    {
      "cell_type": "markdown",
      "source": [
        "# Proporcionar un Conjunto de Datos\n",
        "Se utiliza el corpus del ejercicio 01tdmatrix"
      ],
      "metadata": {
        "id": "a-MKR3zuTpGv"
      },
      "id": "a-MKR3zuTpGv"
    },
    {
      "cell_type": "code",
      "execution_count": 9,
      "id": "initial_id",
      "metadata": {
        "collapsed": true,
        "id": "initial_id"
      },
      "outputs": [],
      "source": [
        "import json\n",
        "import numpy as np\n",
        "from sklearn.feature_extraction.text import TfidfVectorizer\n",
        "from sklearn.metrics.pairwise import cosine_similarity\n",
        "from sklearn.metrics import ndcg_score, average_precision_score\n",
        "\n",
        "with open(\"./data/01tdmatrix_corpus.json\", \"r\") as f:\n",
        "    data = json.load(f)\n",
        "\n",
        "documentos = {doc[\"id\"]: doc[\"text\"] for doc in data}"
      ]
    },
    {
      "cell_type": "markdown",
      "source": [
        "Se define un conjunto de consultas específicas."
      ],
      "metadata": {
        "id": "jqJC2kN-T0-2"
      },
      "id": "jqJC2kN-T0-2"
    },
    {
      "cell_type": "code",
      "source": [
        "consultas = [\n",
        "    \"inteligencia artificial en medicina\",\n",
        "    \"beneficios de la educación a distancia\",\n",
        "    \"realidad aumentada en videojuegos\",\n",
        "    \"desarrollo personal y hábitos saludables\",\n",
        "    \"futuro del comercio electrónico\",\n",
        "    \"tecnologías en cine moderno\",\n",
        "    \"competencias de e-sports\",\n",
        "    \"diagnóstico con dispositivos portátiles\",\n",
        "    \"literatura de ciencia ficción\",\n",
        "    \"plataformas de streaming\"\n",
        "]"
      ],
      "metadata": {
        "id": "w8CVZuxRWwUi"
      },
      "id": "w8CVZuxRWwUi",
      "execution_count": 10,
      "outputs": []
    },
    {
      "cell_type": "markdown",
      "source": [
        "Se obtiene los juicios de relevancia, es decir, se proporciona una lista de qué documentos son relevantes para cada consulta."
      ],
      "metadata": {
        "id": "rZe3q_mZW0rj"
      },
      "id": "rZe3q_mZW0rj"
    },
    {
      "cell_type": "code",
      "source": [
        "juicios_relevancia = {\n",
        "    \"inteligencia artificial en medicina\": [1, 4, 5],\n",
        "    \"beneficios de la educación a distancia\": [2, 6, 9],\n",
        "    \"realidad aumentada en videojuegos\": [3, 7],\n",
        "    \"desarrollo personal y hábitos saludables\": [8, 10],\n",
        "    \"futuro del comercio electrónico\": [11, 13, 15],\n",
        "    \"tecnologías en cine moderno\": [14, 16],\n",
        "    \"competencias de e-sports\": [17, 19],\n",
        "    \"diagnóstico con dispositivos portátiles\": [20, 21],\n",
        "    \"literatura de ciencia ficción\": [22, 23, 24],\n",
        "    \"plataformas de streaming\": [25, 26]\n",
        "}"
      ],
      "metadata": {
        "id": "gqRPgkWYW-yS"
      },
      "id": "gqRPgkWYW-yS",
      "execution_count": 11,
      "outputs": []
    },
    {
      "cell_type": "markdown",
      "source": [
        "# Calcular Resultados de Búsqueda\n",
        "Se obtiene los resultados ordenados de dos sistemas de recuperación para cada consulta, en este caso se aplicará similitud coseno y jaccard. Primero, se crea la matriz TF-IDF."
      ],
      "metadata": {
        "id": "Ik2aW7mvXFva"
      },
      "id": "Ik2aW7mvXFva"
    },
    {
      "cell_type": "code",
      "source": [
        "vectorizer = TfidfVectorizer()\n",
        "tfidf_matrix = vectorizer.fit_transform(documentos.values())"
      ],
      "metadata": {
        "id": "53OA56OrXXdg"
      },
      "id": "53OA56OrXXdg",
      "execution_count": 12,
      "outputs": []
    },
    {
      "cell_type": "markdown",
      "source": [
        "Para recuperación basada en la similitud de coseno."
      ],
      "metadata": {
        "id": "uqWlqAstXwoI"
      },
      "id": "uqWlqAstXwoI"
    },
    {
      "cell_type": "code",
      "source": [
        "def recuperar_por_coseno(consulta):\n",
        "    consulta_vec = vectorizer.transform([consulta])\n",
        "    similitudes = cosine_similarity(consulta_vec, tfidf_matrix).flatten()\n",
        "    resultados = [doc_id for doc_id, _ in sorted(zip(documentos.keys(), similitudes), key=lambda x: -x[1])]\n",
        "    return resultados, similitudes"
      ],
      "metadata": {
        "id": "l_IXP6nkXahF"
      },
      "id": "l_IXP6nkXahF",
      "execution_count": 13,
      "outputs": []
    },
    {
      "cell_type": "markdown",
      "source": [
        "Para recuperación basada en jaccard."
      ],
      "metadata": {
        "id": "0mPdwdl_X2W6"
      },
      "id": "0mPdwdl_X2W6"
    },
    {
      "cell_type": "code",
      "source": [
        "def recuperar_por_jaccard(consulta):\n",
        "    consulta_palabras = set(consulta.lower().split())\n",
        "    resultados = []\n",
        "    similitudes = []\n",
        "    for doc_id, doc_text in documentos.items():\n",
        "        doc_palabras = set(doc_text.lower().split())\n",
        "        interseccion = consulta_palabras.intersection(doc_palabras)\n",
        "        union = consulta_palabras.union(doc_palabras)\n",
        "        jaccard = len(interseccion) / len(union) if len(union) > 0 else 0\n",
        "        resultados.append(doc_id)\n",
        "        similitudes.append(jaccard)\n",
        "\n",
        "    resultados_ordenados = [doc_id for doc_id, _ in sorted(zip(resultados, similitudes), key=lambda x: -x[1])]\n",
        "    return resultados_ordenados, similitudes"
      ],
      "metadata": {
        "id": "LSoxiCZvXitM"
      },
      "id": "LSoxiCZvXitM",
      "execution_count": 14,
      "outputs": []
    },
    {
      "cell_type": "markdown",
      "source": [
        "# Calcular las Métricas de Evaluación\n",
        "Se calcula las siguientes métricas de evaluación para cada sistema y consulta:\n",
        "- Precisión en el top-k (Prec@k)\n",
        "- Recall\n",
        "- F1-score\n",
        "- Mean Average Precision (MAP)\n",
        "- nDCG"
      ],
      "metadata": {
        "id": "Y46Yua0PYHIq"
      },
      "id": "Y46Yua0PYHIq"
    },
    {
      "cell_type": "code",
      "source": [
        "def calcular_métricas(resultados, relevancia, similitudes):\n",
        "    k = len(relevancia)\n",
        "    relevantes_en_top_k = sum([1 for i in resultados[:k] if i in relevancia])\n",
        "    precision_at_k = relevantes_en_top_k / k\n",
        "    recall = relevantes_en_top_k / len(relevancia)\n",
        "    f1 = 2 * (precision_at_k * recall) / (precision_at_k + recall) if (precision_at_k + recall) > 0 else 0\n",
        "    map_score = average_precision_score([1 if doc in relevancia else 0 for doc in resultados], similitudes)\n",
        "    ndcg = ndcg_score([relevancia], [resultados[:len(relevancia)]])\n",
        "    return precision_at_k, recall, f1, map_score, ndcg"
      ],
      "metadata": {
        "id": "6FP93t5_YEGR"
      },
      "id": "6FP93t5_YEGR",
      "execution_count": 15,
      "outputs": []
    },
    {
      "cell_type": "markdown",
      "source": [
        "# Análisis y Comparación\n",
        "Se compara los resultados de los dos sistemas utilizando las métricas calculadas.\n",
        "Discutir cuál sistema es más efectivo y por qué."
      ],
      "metadata": {
        "id": "xHdqQPOZYe-O"
      },
      "id": "xHdqQPOZYe-O"
    },
    {
      "cell_type": "code",
      "source": [
        "metrica_coseno= {}\n",
        "metrica_jaccard = {}\n",
        "\n",
        "for consulta in consultas:\n",
        "    # Recuperación y cálculo de métricas para sistema coseno\n",
        "    resultados_coseno, similitudes_coseno = recuperar_por_coseno(consulta)\n",
        "    relevancia = juicios_relevancia[consulta]\n",
        "    prec_k_cos, recall_cos, f1_cos, map_cos, ndcg_cos = calcular_métricas(resultados_coseno, relevancia, similitudes_coseno)\n",
        "    metrica_coseno[consulta] = {\n",
        "        \"Prec@k\": prec_k_cos, \"Recall\": recall_cos, \"F1-score\": f1_cos, \"MAP\": map_cos, \"nDCG\": ndcg_cos\n",
        "    }\n",
        "\n",
        "    # Recuperación y cálculo de métricas para sistema 2 jaccard\n",
        "    resultados_jaccard, similitudes_jaccard = recuperar_por_jaccard(consulta)\n",
        "    prec_k_jac, recall_jac, f1_jac, map_jac, ndcg_jac = calcular_métricas(resultados_jaccard, relevancia, similitudes_jaccard)\n",
        "    metrica_jaccard[consulta] = {\n",
        "        \"Prec@k\": prec_k_jac, \"Recall\": recall_jac, \"F1-score\": f1_jac, \"MAP\": map_jac, \"nDCG\": ndcg_jac\n",
        "    }\n",
        "\n",
        "# Comparación de resultados\n",
        "for consulta in consultas:\n",
        "    print(f\"Consulta: {consulta}\")\n",
        "    print(\"Sistema Coseno:\", metrica_coseno[consulta])\n",
        "    print(\"Sistema Jaccard:\", metrica_jaccard[consulta])\n",
        "    print()"
      ],
      "metadata": {
        "colab": {
          "base_uri": "https://localhost:8080/"
        },
        "id": "IYloMjlYYrA5",
        "outputId": "712011c5-1319-45d2-bf19-6eb4ed926386"
      },
      "id": "IYloMjlYYrA5",
      "execution_count": 17,
      "outputs": [
        {
          "output_type": "stream",
          "name": "stdout",
          "text": [
            "Consulta: inteligencia artificial en medicina\n",
            "Sistema Coseno: {'Prec@k': 0.0, 'Recall': 0.0, 'F1-score': 0, 'MAP': 0.5694444444444444, 'nDCG': 0.7507390280692656}\n",
            "Sistema Jaccard: {'Prec@k': 0.3333333333333333, 'Recall': 0.3333333333333333, 'F1-score': 0.3333333333333333, 'MAP': 0.4444444444444445, 'nDCG': 0.9510464835551906}\n",
            "\n",
            "Consulta: beneficios de la educación a distancia\n",
            "Sistema Coseno: {'Prec@k': 0.3333333333333333, 'Recall': 0.3333333333333333, 'F1-score': 0.3333333333333333, 'MAP': 0.41666666666666663, 'nDCG': 0.9999999999999999}\n",
            "Sistema Jaccard: {'Prec@k': 0.3333333333333333, 'Recall': 0.3333333333333333, 'F1-score': 0.3333333333333333, 'MAP': 0.3333333333333333, 'nDCG': 0.9999999999999999}\n",
            "\n",
            "Consulta: realidad aumentada en videojuegos\n",
            "Sistema Coseno: {'Prec@k': 0.5, 'Recall': 0.5, 'F1-score': 0.5, 'MAP': 1.0, 'nDCG': 0.9999999999999998}\n",
            "Sistema Jaccard: {'Prec@k': 0.5, 'Recall': 0.5, 'F1-score': 0.5, 'MAP': 0.625, 'nDCG': 0.9999999999999998}\n",
            "\n",
            "Consulta: desarrollo personal y hábitos saludables\n",
            "Sistema Coseno: {'Prec@k': 0.0, 'Recall': 0.0, 'F1-score': 0, 'MAP': 0.125, 'nDCG': 0.9509457695419298}\n",
            "Sistema Jaccard: {'Prec@k': 0.0, 'Recall': 0.0, 'F1-score': 0, 'MAP': 0.125, 'nDCG': 0.9509457695419298}\n",
            "\n",
            "Consulta: futuro del comercio electrónico\n",
            "Sistema Coseno: {'Prec@k': 0.0, 'Recall': 0.0, 'F1-score': 0, 'MAP': -0.0, 'nDCG': 0.9999999999999999}\n",
            "Sistema Jaccard: {'Prec@k': 0.0, 'Recall': 0.0, 'F1-score': 0, 'MAP': -0.0, 'nDCG': 0.9999999999999999}\n",
            "\n",
            "Consulta: tecnologías en cine moderno\n",
            "Sistema Coseno: {'Prec@k': 0.0, 'Recall': 0.0, 'F1-score': 0, 'MAP': -0.0, 'nDCG': 0.9702758425916214}\n",
            "Sistema Jaccard: {'Prec@k': 0.0, 'Recall': 0.0, 'F1-score': 0, 'MAP': -0.0, 'nDCG': 0.9702758425916214}\n",
            "\n",
            "Consulta: competencias de e-sports\n",
            "Sistema Coseno: {'Prec@k': 0.0, 'Recall': 0.0, 'F1-score': 0, 'MAP': -0.0, 'nDCG': 1.0}\n",
            "Sistema Jaccard: {'Prec@k': 0.0, 'Recall': 0.0, 'F1-score': 0, 'MAP': -0.0, 'nDCG': 1.0}\n",
            "\n",
            "Consulta: diagnóstico con dispositivos portátiles\n",
            "Sistema Coseno: {'Prec@k': 0.0, 'Recall': 0.0, 'F1-score': 0, 'MAP': -0.0, 'nDCG': 0.9890218420595988}\n",
            "Sistema Jaccard: {'Prec@k': 0.0, 'Recall': 0.0, 'F1-score': 0, 'MAP': -0.0, 'nDCG': 0.9890218420595988}\n",
            "\n",
            "Consulta: literatura de ciencia ficción\n",
            "Sistema Coseno: {'Prec@k': 0.0, 'Recall': 0.0, 'F1-score': 0, 'MAP': -0.0, 'nDCG': 0.9973555626582135}\n",
            "Sistema Jaccard: {'Prec@k': 0.0, 'Recall': 0.0, 'F1-score': 0, 'MAP': -0.0, 'nDCG': 0.9824470622635301}\n",
            "\n",
            "Consulta: plataformas de streaming\n",
            "Sistema Coseno: {'Prec@k': 0.0, 'Recall': 0.0, 'F1-score': 0, 'MAP': -0.0, 'nDCG': 0.991164912932104}\n",
            "Sistema Jaccard: {'Prec@k': 0.0, 'Recall': 0.0, 'F1-score': 0, 'MAP': -0.0, 'nDCG': 0.991164912932104}\n",
            "\n"
          ]
        },
        {
          "output_type": "stream",
          "name": "stderr",
          "text": [
            "/usr/local/lib/python3.10/dist-packages/sklearn/metrics/_ranking.py:1030: UserWarning: No positive class found in y_true, recall is set to one for all thresholds.\n",
            "  warnings.warn(\n",
            "/usr/local/lib/python3.10/dist-packages/sklearn/metrics/_ranking.py:1030: UserWarning: No positive class found in y_true, recall is set to one for all thresholds.\n",
            "  warnings.warn(\n",
            "/usr/local/lib/python3.10/dist-packages/sklearn/metrics/_ranking.py:1030: UserWarning: No positive class found in y_true, recall is set to one for all thresholds.\n",
            "  warnings.warn(\n",
            "/usr/local/lib/python3.10/dist-packages/sklearn/metrics/_ranking.py:1030: UserWarning: No positive class found in y_true, recall is set to one for all thresholds.\n",
            "  warnings.warn(\n",
            "/usr/local/lib/python3.10/dist-packages/sklearn/metrics/_ranking.py:1030: UserWarning: No positive class found in y_true, recall is set to one for all thresholds.\n",
            "  warnings.warn(\n",
            "/usr/local/lib/python3.10/dist-packages/sklearn/metrics/_ranking.py:1030: UserWarning: No positive class found in y_true, recall is set to one for all thresholds.\n",
            "  warnings.warn(\n",
            "/usr/local/lib/python3.10/dist-packages/sklearn/metrics/_ranking.py:1030: UserWarning: No positive class found in y_true, recall is set to one for all thresholds.\n",
            "  warnings.warn(\n",
            "/usr/local/lib/python3.10/dist-packages/sklearn/metrics/_ranking.py:1030: UserWarning: No positive class found in y_true, recall is set to one for all thresholds.\n",
            "  warnings.warn(\n",
            "/usr/local/lib/python3.10/dist-packages/sklearn/metrics/_ranking.py:1030: UserWarning: No positive class found in y_true, recall is set to one for all thresholds.\n",
            "  warnings.warn(\n",
            "/usr/local/lib/python3.10/dist-packages/sklearn/metrics/_ranking.py:1030: UserWarning: No positive class found in y_true, recall is set to one for all thresholds.\n",
            "  warnings.warn(\n",
            "/usr/local/lib/python3.10/dist-packages/sklearn/metrics/_ranking.py:1030: UserWarning: No positive class found in y_true, recall is set to one for all thresholds.\n",
            "  warnings.warn(\n",
            "/usr/local/lib/python3.10/dist-packages/sklearn/metrics/_ranking.py:1030: UserWarning: No positive class found in y_true, recall is set to one for all thresholds.\n",
            "  warnings.warn(\n"
          ]
        }
      ]
    },
    {
      "cell_type": "markdown",
      "source": [
        "El Sistema de Similitud de Coseno es más efectivo en consultas temáticas generales, mientras que el Sistema de Similitud de Jaccard es mejor para consultas donde la coincidencia exacta de términos es crucial."
      ],
      "metadata": {
        "id": "FuLLIoc-Zxs1"
      },
      "id": "FuLLIoc-Zxs1"
    }
  ],
  "metadata": {
    "kernelspec": {
      "display_name": "Python 3",
      "language": "python",
      "name": "python3"
    },
    "language_info": {
      "codemirror_mode": {
        "name": "ipython",
        "version": 2
      },
      "file_extension": ".py",
      "mimetype": "text/x-python",
      "name": "python",
      "nbconvert_exporter": "python",
      "pygments_lexer": "ipython2",
      "version": "2.7.6"
    },
    "colab": {
      "provenance": []
    }
  },
  "nbformat": 4,
  "nbformat_minor": 5
}