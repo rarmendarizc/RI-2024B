{
  "cells": [
    {
      "cell_type": "markdown",
      "id": "2d2219b455c1e0ef",
      "metadata": {
        "id": "2d2219b455c1e0ef"
      },
      "source": [
        "# Ejercicio 02: Cálculo de la Matriz TF-IDF y Búsqueda de Consultas en un Corpus\n",
        "\n",
        "Integrantes: Rossy Armendariz, Alejandro Chavez, Javier Quishpe\n",
        "\n",
        "El objetivo de este ejercicio es calcular la matriz TF-IDF de un corpus de documentos y luego aplicar una serie de consultas para recuperar los documentos más relevantes. Este ejercicio te ayudará a comprender cómo funciona el modelo de espacio vectorial y cómo se utiliza TF-IDF para ponderar términos en documentos y consultas.\n",
        "\n",
        "Seguirás los siguientes pasos:"
      ]
    },
    {
      "cell_type": "markdown",
      "id": "8fa1290fb0f5143d",
      "metadata": {
        "id": "8fa1290fb0f5143d"
      },
      "source": [
        "Pasos del Ejercicio\n",
        "\n",
        "1. Preprocesamiento del texto:\n",
        "    * Lectura del corpus desde el archivo TXT.\n",
        "    * Tokenización de los documentos.\n",
        "    * Normalización del texto (conversión a minúsculas, eliminación de signos de puntuación).\n",
        "    * Eliminación de palabras vacías (stopwords).\n",
        "\n",
        "2. Construcción de la matriz TF-IDF:\n",
        "    * Cálculo de la frecuencia de término (TF) para cada término en cada documento.\n",
        "    * Cálculo de la frecuencia inversa de documento (IDF) para cada término en el corpus.\n",
        "    * Cálculo del peso TF-IDF para cada término en cada documento.\n",
        "\n",
        "3. Procesamiento de las consultas:\n",
        "    * Preprocesamiento de las consultas de manera similar a los documentos.\n",
        "    * Representación de las consultas en el espacio vectorial TF-IDF.\n",
        "\n",
        "4. Cálculo de similitudes:\n",
        "    * Cálculo de la similitud entre cada consulta y los documentos del corpus utilizando la similitud del coseno.\n",
        "\n",
        "5. Ranking de documentos:\n",
        "    * Ordenar los documentos de mayor a menor similitud para cada consulta.\n",
        "    * Mostrar los documentos más relevantes para cada consulta."
      ]
    },
    {
      "cell_type": "markdown",
      "id": "431356e916e78a3f",
      "metadata": {
        "id": "431356e916e78a3f"
      },
      "source": [
        "Consultas\n",
        "\n",
        "Las consultas a aplicar son las siguientes:\n",
        "\n",
        "    \"inteligencia artificial en medicina\"\n",
        "    \"beneficios de la educación a distancia\"\n",
        "    \"realidad aumentada en videojuegos\"\n",
        "    \"desarrollo personal y hábitos saludables\"\n",
        "    \"futuro del comercio electrónico\"\n",
        "    \"tecnologías en cine moderno\"\n",
        "    \"competencias de e-sports\"\n",
        "    \"diagnóstico con dispositivos portátiles\"\n",
        "    \"literatura de ciencia ficción\"\n",
        "    \"plataformas de streaming\""
      ]
    },
    {
      "cell_type": "markdown",
      "id": "24d49eb9",
      "metadata": {
        "id": "24d49eb9"
      },
      "source": [
        "**Bibliotecas necesarias**"
      ]
    },
    {
      "cell_type": "code",
      "execution_count": 84,
      "id": "af08bcbe",
      "metadata": {
        "id": "af08bcbe"
      },
      "outputs": [],
      "source": [
        "import nltk\n",
        "from nltk.corpus import stopwords\n",
        "from math import log"
      ]
    },
    {
      "cell_type": "markdown",
      "id": "e1510018",
      "metadata": {
        "id": "e1510018"
      },
      "source": [
        "Primero, se realiza la lectura del corpus txt."
      ]
    },
    {
      "cell_type": "code",
      "execution_count": 85,
      "id": "initial_id",
      "metadata": {
        "collapsed": true,
        "id": "initial_id"
      },
      "outputs": [],
      "source": [
        "datos = []\n",
        "with open('./data/02tfidfmatrix_corpus.txt', mode='r', encoding='utf-8') as file:\n",
        "    datos = file.readlines()"
      ]
    },
    {
      "cell_type": "markdown",
      "id": "43b9608e",
      "metadata": {
        "id": "43b9608e"
      },
      "source": [
        "En base al corpus se tokeniza los documentos."
      ]
    },
    {
      "cell_type": "code",
      "execution_count": 86,
      "id": "02eca23c",
      "metadata": {
        "colab": {
          "base_uri": "https://localhost:8080/"
        },
        "id": "02eca23c",
        "outputId": "7223bed3-a0fe-42a6-b515-eee49f3f5978"
      },
      "outputs": [
        {
          "output_type": "stream",
          "name": "stdout",
          "text": [
            "[['la', 'inteligencia', 'artificial', 'continúa', 'avanzando', 'rápidamente', 'transformando', 'sectores', 'como', 'la', 'salud', 'y', 'las', 'finanzas', 'las', 'empresas', 'están', 'adoptando', 'algoritmos', 'de', 'aprendizaje', 'automático', 'para', 'mejorar', 'la', 'eficiencia', 'sin', 'embargo', 'el', 'desafío', 'principal', 'sigue', 'siendo', 'garantizar', 'que', 'las', 'decisiones', 'basadas', 'en', 'datos', 'sean', 'justas', 'y', 'no', 'perpetúen', 'sesgos', 'la', 'ética', 'es', 'fundamental', 'en', 'este', 'contexto'], ['el', 'desarrollo', 'de', 'videojuegos', 'ha', 'alcanzado', 'un', 'nuevo', 'nivel', 'con', 'tecnologías', 'como', 'la', 'realidad', 'aumentada', 'y', 'la', 'inteligencia', 'artificial', 'los', 'jugadores', 'ahora', 'pueden', 'interactuar', 'en', 'mundos', 'virtuales', 'más', 'inmersivos', 'este', 'crecimiento', 'también', 'impulsa', 'el', 'mercado', 'de', 'los', 'e-sports', 'donde', 'las', 'competencias', 'profesionales', 'atraen', 'a', 'millones', 'de', 'espectadores', 'en', 'todo', 'el', 'mundo'], ['el', 'comercio', 'electrónico', 'ha', 'cambiado', 'la', 'forma', 'en', 'que', 'compramos', 'con', 'la', 'creciente', 'demanda', 'de', 'compras', 'en', 'línea', 'las', 'empresas', 'están', 'optimizando', 'sus', 'plataformas', 'digitales', 'para', 'ofrecer', 'mejores', 'experiencias', 'de', 'usuario', 'desde', 'recomendaciones', 'personalizadas', 'hasta', 'pagos', 'rápidos', 'los', 'avances', 'en', 'tecnología', 'siguen', 'facilitando', 'las', 'transacciones', 'diarias', 'de', 'los', 'consumidores'], ['la', 'educación', 'a', 'distancia', 'ha', 'permitido', 'a', 'millones', 'de', 'estudiantes', 'acceder', 'a', 'programas', 'de', 'calidad', 'sin', 'importar', 'su', 'ubicación', 'la', 'flexibilidad', 'es', 'uno', 'de', 'los', 'mayores', 'beneficios', 'especialmente', 'para', 'aquellos', 'con', 'trabajos', 'a', 'tiempo', 'completo', 'aunque', 'la', 'falta', 'de', 'interacción', 'presencial', 'es', 'un', 'reto', 'las', 'herramientas', 'digitales', 'siguen', 'mejorando', 'la', 'experiencia', 'educativa'], ['el', 'cine', 'ha', 'evolucionado', 'con', 'los', 'años', 'incorporando', 'efectos', 'visuales', 'cada', 'vez', 'más', 'realistas', 'las', 'producciones', 'cinematográficas', 'utilizan', 'tecnologías', 'avanzadas', 'para', 'crear', 'escenas', 'que', 'desafían', 'la', 'realidad', 'además', 'el', 'acceso', 'a', 'plataformas', 'de', 'streaming', 'ha', 'transformado', 'cómo', 'y', 'cuándo', 'el', 'público', 'consume', 'contenido', 'democratizando', 'el', 'acceso', 'a', 'películas', 'y', 'series'], ['la', 'ciencia', 'ficción', 'es', 'uno', 'de', 'los', 'géneros', 'literarios', 'más', 'populares', 'explorando', 'temas', 'como', 'el', 'viaje', 'en', 'el', 'tiempo', 'la', 'inteligencia', 'artificial', 'y', 'la', 'vida', 'en', 'otros', 'planetas', 'este', 'género', 'no', 'solo', 'entretiene', 'sino', 'que', 'también', 'invita', 'a', 'reflexionar', 'sobre', 'el', 'futuro', 'de', 'la', 'humanidad', 'y', 'las', 'implicaciones', 'de', 'los', 'avances', 'tecnológicos'], ['el', 'desarrollo', 'personal', 'se', 'ha', 'convertido', 'en', 'una', 'prioridad', 'para', 'muchas', 'personas', 'que', 'buscan', 'mejorar', 'su', 'calidad', 'de', 'vida', 'desde', 'la', 'adopción', 'de', 'hábitos', 'saludables', 'hasta', 'el', 'aprendizaje', 'de', 'nuevas', 'habilidades', 'el', 'enfoque', 'en', 'el', 'crecimiento', 'individual', 'ha', 'llevado', 'a', 'un', 'aumento', 'en', 'la', 'demanda', 'de', 'libros', 'cursos', 'y', 'aplicaciones', 'que', 'promueven', 'el', 'bienestar', 'integral'], ['los', 'avances', 'en', 'la', 'medicina', 'están', 'cambiando', 'la', 'forma', 'en', 'que', 'se', 'diagnostican', 'y', 'tratan', 'las', 'enfermedades', 'desde', 'la', 'telemedicina', 'hasta', 'los', 'dispositivos', 'portátiles', 'que', 'monitorean', 'la', 'salud', 'en', 'tiempo', 'real', 'la', 'tecnología', 'está', 'permitiendo', 'a', 'los', 'médicos', 'ofrecer', 'cuidados', 'más', 'personalizados', 'el', 'futuro', 'de', 'la', 'medicina', 'es', 'prometedor', 'con', 'tratamientos', 'más', 'accesibles', 'y', 'eficaces']]\n"
          ]
        }
      ],
      "source": [
        "tokens = []\n",
        "for linea in datos:\n",
        "    if \"Documento\" in linea:\n",
        "        partes = linea.split(\":\", 1)\n",
        "        if len(partes) > 1:\n",
        "            contenido = partes[1].strip().lower()\n",
        "            palabras = contenido.split()\n",
        "            palabras = [palabra.replace('.', '').replace(',', '') for palabra in palabras]\n",
        "            tokens.append(palabras)\n",
        "print(tokens)"
      ]
    },
    {
      "cell_type": "markdown",
      "id": "827cbd43",
      "metadata": {
        "id": "827cbd43"
      },
      "source": [
        "Se normaliza el texto, donde se convierte a minúsculas y se elimina de signos de puntuación. Además, se crea una lista de palabras únicas."
      ]
    },
    {
      "cell_type": "code",
      "execution_count": 87,
      "id": "38747035",
      "metadata": {
        "colab": {
          "base_uri": "https://localhost:8080/"
        },
        "id": "38747035",
        "outputId": "e7014d75-d7c8-4665-b239-864e434e610c"
      },
      "outputs": [
        {
          "output_type": "stream",
          "name": "stdout",
          "text": [
            "['presencial', 'permitiendo', 'educación', 'distancia', 'creciente', 'médicos', 'uno', 'mejores', 'especialmente', 'a', 'integral', 'los', 'su', 'películas', 'plataformas', 'ubicación', 'sobre', 'basadas', 'mejorar', 'optimizando', 'individual', 'en', 'que', 'cine', 'aquellos', 'interactuar', 'real', 'incorporando', 'sino', 'está', 'accesibles', 'datos', 'se', 'como', 'medicina', 'empresas', 'comercio', 'mercado', 'programas', 'convertido', 'rápidamente', 'adopción', 'automático', 'portátiles', 'cambiado', 'años', 'experiencias', 'estudiantes', 'habilidades', 'diagnostican', 'justas', 'flexibilidad', 'eficiencia', 'rápidos', 'avanzadas', 'sus', 'bienestar', 'educativa', 'profesionales', 'ahora', 'reflexionar', 'pagos', 'consume', 'artificial', 'nivel', 'la', 'compras', 'escenas', 'sesgos', 'impulsa', 'compramos', 'cómo', 'literarios', 'contenido', 'siendo', 'trabajos', 'solo', 'implicaciones', 'perpetúen', 'evolucionado', 'crecimiento', 'contexto', 'mundo', 'realistas', 'género', 'tecnologías', 'personas', 'calidad', 'desafían', 'usuario', 'promueven', 'cada', 'embargo', 'es', 'público', 'están', 'electrónico', 'dispositivos', 'adoptando', 'ciencia', 'importar', 'libros', 'un', 'enfoque', 'falta', 'cuidados', 'series', 'futuro', 'cambiando', 'viaje', 'inmersivos', 'millones', 'desafío', 'llevado', 'fundamental', 'aumento', 'videojuegos', 'producciones', 'donde', 'algoritmos', 'espectadores', 'eficaces', 'también', 'aplicaciones', 'personalizados', 'democratizando', 'nuevo', 'más', 'mayores', 'ética', 'herramientas', 'aprendizaje', 'transformando', 'ofrecer', 'hábitos', 'siguen', 'demanda', 'avances', 'cinematográficas', 'este', 'jugadores', 'tratamientos', 'enfermedades', 'hasta', 'desarrollo', 'crear', 'realidad', 'tiempo', 'el', 'visuales', 'interacción', 'diarias', 'otros', 'una', 'monitorean', 'e-sports', 'personal', 'tecnología', 'personalizadas', 'beneficios', 'sin', 'vida', 'sean', 'principal', 'transformado', 'forma', 'aunque', 'digitales', 'no', 'prometedor', 'recomendaciones', 'ficción', 'finanzas', 'tecnológicos', 'alcanzado', 'ha', 'cuándo', 'además', 'atraen', 'humanidad', 'populares', 'con', 'planetas', 'prioridad', 'desde', 'cursos', 'invita', 'nuevas', 'facilitando', 'transacciones', 'acceso', 'explorando', 'reto', 'temas', 'consumidores', 'streaming', 'competencias', 'pueden', 'virtuales', 'acceder', 'vez', 'tratan', 'telemedicina', 'para', 'continúa', 'muchas', 'completo', 'y', 'entretiene', 'línea', 'buscan', 'las', 'salud', 'avanzando', 'mundos', 'sectores', 'de', 'todo', 'saludables', 'garantizar', 'utilizan', 'efectos', 'permitido', 'experiencia', 'mejorando', 'aumentada', 'inteligencia', 'sigue', 'géneros', 'decisiones']\n"
          ]
        }
      ],
      "source": [
        "vocab = list(set(word.lower().replace(',', '').replace('.', '') for sublist in tokens for word in sublist))\n",
        "print(vocab)\n"
      ]
    },
    {
      "cell_type": "markdown",
      "source": [
        "Eliminar los stopwprds usando la biblioteca nltk."
      ],
      "metadata": {
        "id": "sudyZKIGMeAC"
      },
      "id": "sudyZKIGMeAC"
    },
    {
      "cell_type": "code",
      "execution_count": 88,
      "id": "035dcf87",
      "metadata": {
        "colab": {
          "base_uri": "https://localhost:8080/"
        },
        "id": "035dcf87",
        "outputId": "cf7fb2a9-6336-467c-e4c8-ef46f95d128c"
      },
      "outputs": [
        {
          "output_type": "stream",
          "name": "stdout",
          "text": [
            "['acceder', 'accesibles', 'acceso', 'además', 'adopción', 'adoptando', 'ahora', 'alcanzado', 'algoritmos', 'aplicaciones', 'aprendizaje', 'aquellos', 'artificial', 'atraen', 'aumentada', 'aumento', 'aunque', 'automático', 'avances', 'avanzadas', 'avanzando', 'años', 'basadas', 'beneficios', 'bienestar', 'buscan', 'cada', 'calidad', 'cambiado', 'cambiando', 'ciencia', 'cine', 'cinematográficas', 'comercio', 'competencias', 'completo', 'compramos', 'compras', 'consume', 'consumidores', 'contenido', 'contexto', 'continúa', 'convertido', 'crear', 'creciente', 'crecimiento', 'cuidados', 'cursos', 'cuándo', 'cómo', 'datos', 'decisiones', 'demanda', 'democratizando', 'desafían', 'desafío', 'desarrollo', 'diagnostican', 'diarias', 'digitales', 'dispositivos', 'distancia', 'e-sports', 'educación', 'educativa', 'efectos', 'eficaces', 'eficiencia', 'electrónico', 'embargo', 'empresas', 'enfermedades', 'enfoque', 'entretiene', 'escenas', 'especialmente', 'espectadores', 'estudiantes', 'evolucionado', 'experiencia', 'experiencias', 'explorando', 'facilitando', 'falta', 'ficción', 'finanzas', 'flexibilidad', 'forma', 'fundamental', 'futuro', 'garantizar', 'género', 'géneros', 'habilidades', 'herramientas', 'humanidad', 'hábitos', 'implicaciones', 'importar', 'impulsa', 'incorporando', 'individual', 'inmersivos', 'integral', 'inteligencia', 'interacción', 'interactuar', 'invita', 'jugadores', 'justas', 'libros', 'literarios', 'llevado', 'línea', 'mayores', 'medicina', 'mejorando', 'mejorar', 'mejores', 'mercado', 'millones', 'monitorean', 'muchas', 'mundo', 'mundos', 'médicos', 'nivel', 'nuevas', 'nuevo', 'ofrecer', 'optimizando', 'pagos', 'películas', 'permitido', 'permitiendo', 'perpetúen', 'personal', 'personalizadas', 'personalizados', 'personas', 'planetas', 'plataformas', 'populares', 'portátiles', 'presencial', 'principal', 'prioridad', 'producciones', 'profesionales', 'programas', 'prometedor', 'promueven', 'pueden', 'público', 'real', 'realidad', 'realistas', 'recomendaciones', 'reflexionar', 'reto', 'rápidamente', 'rápidos', 'salud', 'saludables', 'sectores', 'series', 'sesgos', 'siendo', 'sigue', 'siguen', 'sino', 'solo', 'streaming', 'tecnología', 'tecnologías', 'tecnológicos', 'telemedicina', 'temas', 'tiempo', 'trabajos', 'transacciones', 'transformado', 'transformando', 'tratamientos', 'tratan', 'ubicación', 'usuario', 'utilizan', 'vez', 'viaje', 'vida', 'videojuegos', 'virtuales', 'visuales', 'ética']\n"
          ]
        },
        {
          "output_type": "stream",
          "name": "stderr",
          "text": [
            "[nltk_data] Downloading package stopwords to /root/nltk_data...\n",
            "[nltk_data]   Package stopwords is already up-to-date!\n"
          ]
        }
      ],
      "source": [
        "nltk.download('stopwords')\n",
        "stop_words = set(stopwords.words('spanish'))\n",
        "\n",
        "tokens = [[word for word in doc if word not in stop_words] for doc in tokens]\n",
        "vocab = sorted(set(word for word in vocab if word not in stop_words))\n",
        "print(vocab)"
      ]
    },
    {
      "cell_type": "markdown",
      "source": [
        "Crear la matriz TF."
      ],
      "metadata": {
        "id": "AhJpZEyDMi3u"
      },
      "id": "AhJpZEyDMi3u"
    },
    {
      "cell_type": "code",
      "source": [
        "tf_matrix = []\n",
        "\n",
        "for words in tokens:\n",
        "    term_count = {}\n",
        "\n",
        "    for word in words:\n",
        "        if word in term_count:\n",
        "            term_count[word] += 1\n",
        "        else:\n",
        "            term_count[word] = 1\n",
        "\n",
        "    tf_vector = []\n",
        "    for word in vocab:\n",
        "        tf_value = term_count.get(word, 0)\n",
        "        tf_vector.append(tf_value)\n",
        "\n",
        "    tf_matrix.append(tf_vector)\n",
        "\n",
        "print(\"Matriz TF:\")\n",
        "print(tf_matrix)"
      ],
      "metadata": {
        "colab": {
          "base_uri": "https://localhost:8080/"
        },
        "id": "0VC0tzMrNGM8",
        "outputId": "4f470b30-4944-4f98-cb5e-ef66cee95e5b"
      },
      "id": "0VC0tzMrNGM8",
      "execution_count": 89,
      "outputs": [
        {
          "output_type": "stream",
          "name": "stdout",
          "text": [
            "Matriz TF:\n",
            "[[0, 0, 0, 0, 0, 1, 0, 0, 1, 0, 1, 0, 1, 0, 0, 0, 0, 1, 0, 0, 1, 0, 1, 0, 0, 0, 0, 0, 0, 0, 0, 0, 0, 0, 0, 0, 0, 0, 0, 0, 0, 1, 1, 0, 0, 0, 0, 0, 0, 0, 0, 1, 1, 0, 0, 0, 1, 0, 0, 0, 0, 0, 0, 0, 0, 0, 0, 0, 1, 0, 1, 1, 0, 0, 0, 0, 0, 0, 0, 0, 0, 0, 0, 0, 0, 0, 1, 0, 0, 1, 0, 1, 0, 0, 0, 0, 0, 0, 0, 0, 0, 0, 0, 0, 0, 1, 0, 0, 0, 0, 1, 0, 0, 0, 0, 0, 0, 0, 1, 0, 0, 0, 0, 0, 0, 0, 0, 0, 0, 0, 0, 0, 0, 0, 0, 0, 1, 0, 0, 0, 0, 0, 0, 0, 0, 0, 1, 0, 0, 0, 0, 0, 0, 0, 0, 0, 0, 0, 0, 0, 0, 1, 0, 1, 0, 1, 0, 1, 1, 1, 0, 0, 0, 0, 0, 0, 0, 0, 0, 0, 0, 0, 0, 1, 0, 0, 0, 0, 0, 0, 0, 0, 0, 0, 0, 1], [0, 0, 0, 0, 0, 0, 1, 1, 0, 0, 0, 0, 1, 1, 1, 0, 0, 0, 0, 0, 0, 0, 0, 0, 0, 0, 0, 0, 0, 0, 0, 0, 0, 0, 1, 0, 0, 0, 0, 0, 0, 0, 0, 0, 0, 0, 1, 0, 0, 0, 0, 0, 0, 0, 0, 0, 0, 1, 0, 0, 0, 0, 0, 1, 0, 0, 0, 0, 0, 0, 0, 0, 0, 0, 0, 0, 0, 1, 0, 0, 0, 0, 0, 0, 0, 0, 0, 0, 0, 0, 0, 0, 0, 0, 0, 0, 0, 0, 0, 0, 1, 0, 0, 1, 0, 1, 0, 1, 0, 1, 0, 0, 0, 0, 0, 0, 0, 0, 0, 0, 1, 1, 0, 0, 1, 1, 0, 1, 0, 1, 0, 0, 0, 0, 0, 0, 0, 0, 0, 0, 0, 0, 0, 0, 0, 0, 0, 0, 0, 1, 0, 0, 0, 1, 0, 0, 1, 0, 0, 0, 0, 0, 0, 0, 0, 0, 0, 0, 0, 0, 0, 0, 0, 0, 0, 1, 0, 0, 0, 0, 0, 0, 0, 0, 0, 0, 0, 0, 0, 0, 0, 0, 1, 1, 0, 0], [0, 0, 0, 0, 0, 0, 0, 0, 0, 0, 0, 0, 0, 0, 0, 0, 0, 0, 1, 0, 0, 0, 0, 0, 0, 0, 0, 0, 1, 0, 0, 0, 0, 1, 0, 0, 1, 1, 0, 1, 0, 0, 0, 0, 0, 1, 0, 0, 0, 0, 0, 0, 0, 1, 0, 0, 0, 0, 0, 1, 1, 0, 0, 0, 0, 0, 0, 0, 0, 1, 0, 1, 0, 0, 0, 0, 0, 0, 0, 0, 0, 1, 0, 1, 0, 0, 0, 0, 1, 0, 0, 0, 0, 0, 0, 0, 0, 0, 0, 0, 0, 0, 0, 0, 0, 0, 0, 0, 0, 0, 0, 0, 0, 0, 1, 0, 0, 0, 0, 1, 0, 0, 0, 0, 0, 0, 0, 0, 0, 0, 1, 1, 1, 0, 0, 0, 0, 0, 1, 0, 0, 0, 1, 0, 0, 0, 0, 0, 0, 0, 0, 0, 0, 0, 0, 0, 0, 0, 1, 0, 0, 0, 1, 0, 0, 0, 0, 0, 0, 0, 1, 0, 0, 0, 1, 0, 0, 0, 0, 0, 0, 1, 0, 0, 0, 0, 0, 1, 0, 0, 0, 0, 0, 0, 0, 0], [1, 0, 0, 0, 0, 0, 0, 0, 0, 0, 0, 1, 0, 0, 0, 0, 1, 0, 0, 0, 0, 0, 0, 1, 0, 0, 0, 1, 0, 0, 0, 0, 0, 0, 0, 1, 0, 0, 0, 0, 0, 0, 0, 0, 0, 0, 0, 0, 0, 0, 0, 0, 0, 0, 0, 0, 0, 0, 0, 0, 1, 0, 1, 0, 1, 1, 0, 0, 0, 0, 0, 0, 0, 0, 0, 0, 1, 0, 1, 0, 1, 0, 0, 0, 1, 0, 0, 1, 0, 0, 0, 0, 0, 0, 0, 1, 0, 0, 0, 1, 0, 0, 0, 0, 0, 0, 1, 0, 0, 0, 0, 0, 0, 0, 0, 1, 0, 1, 0, 0, 0, 1, 0, 0, 0, 0, 0, 0, 0, 0, 0, 0, 0, 0, 1, 0, 0, 0, 0, 0, 0, 0, 0, 0, 0, 1, 0, 0, 0, 0, 1, 0, 0, 0, 0, 0, 0, 0, 0, 0, 1, 0, 0, 0, 0, 0, 0, 0, 0, 0, 1, 0, 0, 0, 0, 0, 0, 0, 0, 1, 1, 0, 0, 0, 0, 0, 1, 0, 0, 0, 0, 0, 0, 0, 0, 0], [0, 0, 2, 1, 0, 0, 0, 0, 0, 0, 0, 0, 0, 0, 0, 0, 0, 0, 0, 1, 0, 1, 0, 0, 0, 0, 1, 0, 0, 0, 0, 1, 1, 0, 0, 0, 0, 0, 1, 0, 1, 0, 0, 0, 1, 0, 0, 0, 0, 1, 1, 0, 0, 0, 1, 1, 0, 0, 0, 0, 0, 0, 0, 0, 0, 0, 1, 0, 0, 0, 0, 0, 0, 0, 0, 1, 0, 0, 0, 1, 0, 0, 0, 0, 0, 0, 0, 0, 0, 0, 0, 0, 0, 0, 0, 0, 0, 0, 0, 0, 0, 1, 0, 0, 0, 0, 0, 0, 0, 0, 0, 0, 0, 0, 0, 0, 0, 0, 0, 0, 0, 0, 0, 0, 0, 0, 0, 0, 0, 0, 0, 0, 0, 1, 0, 0, 0, 0, 0, 0, 0, 0, 1, 0, 0, 0, 0, 0, 1, 0, 0, 0, 0, 0, 1, 0, 1, 1, 0, 0, 0, 0, 0, 0, 0, 0, 1, 0, 0, 0, 0, 0, 0, 1, 0, 1, 0, 0, 0, 0, 0, 0, 1, 0, 0, 0, 0, 0, 1, 1, 0, 0, 0, 0, 1, 0], [0, 0, 0, 0, 0, 0, 0, 0, 0, 0, 0, 0, 1, 0, 0, 0, 0, 0, 1, 0, 0, 0, 0, 0, 0, 0, 0, 0, 0, 0, 1, 0, 0, 0, 0, 0, 0, 0, 0, 0, 0, 0, 0, 0, 0, 0, 0, 0, 0, 0, 0, 0, 0, 0, 0, 0, 0, 0, 0, 0, 0, 0, 0, 0, 0, 0, 0, 0, 0, 0, 0, 0, 0, 0, 1, 0, 0, 0, 0, 0, 0, 0, 1, 0, 0, 1, 0, 0, 0, 0, 1, 0, 1, 1, 0, 0, 1, 0, 1, 0, 0, 0, 0, 0, 0, 1, 0, 0, 1, 0, 0, 0, 1, 0, 0, 0, 0, 0, 0, 0, 0, 0, 0, 0, 0, 0, 0, 0, 0, 0, 0, 0, 0, 0, 0, 0, 0, 0, 0, 0, 0, 1, 0, 1, 0, 0, 0, 0, 0, 0, 0, 0, 0, 0, 0, 0, 0, 0, 0, 1, 0, 0, 0, 0, 0, 0, 0, 0, 0, 0, 0, 1, 1, 0, 0, 0, 1, 0, 1, 1, 0, 0, 0, 0, 0, 0, 0, 0, 0, 0, 1, 1, 0, 0, 0, 0], [0, 0, 0, 0, 1, 0, 0, 0, 0, 1, 1, 0, 0, 0, 0, 1, 0, 0, 0, 0, 0, 0, 0, 0, 1, 1, 0, 1, 0, 0, 0, 0, 0, 0, 0, 0, 0, 0, 0, 0, 0, 0, 0, 1, 0, 0, 1, 0, 1, 0, 0, 0, 0, 1, 0, 0, 0, 1, 0, 0, 0, 0, 0, 0, 0, 0, 0, 0, 0, 0, 0, 0, 0, 1, 0, 0, 0, 0, 0, 0, 0, 0, 0, 0, 0, 0, 0, 0, 0, 0, 0, 0, 0, 0, 1, 0, 0, 1, 0, 0, 0, 0, 1, 0, 1, 0, 0, 0, 0, 0, 0, 1, 0, 1, 0, 0, 0, 0, 1, 0, 0, 0, 0, 1, 0, 0, 0, 0, 1, 0, 0, 0, 0, 0, 0, 0, 0, 1, 0, 0, 1, 0, 0, 0, 0, 0, 0, 1, 0, 0, 0, 0, 1, 0, 0, 0, 0, 0, 0, 0, 0, 0, 0, 0, 1, 0, 0, 0, 0, 0, 0, 0, 0, 0, 0, 0, 0, 0, 0, 0, 0, 0, 0, 0, 0, 0, 0, 0, 0, 0, 0, 1, 0, 0, 0, 0], [0, 1, 0, 0, 0, 0, 0, 0, 0, 0, 0, 0, 0, 0, 0, 0, 0, 0, 1, 0, 0, 0, 0, 0, 0, 0, 0, 0, 0, 1, 0, 0, 0, 0, 0, 0, 0, 0, 0, 0, 0, 0, 0, 0, 0, 0, 0, 1, 0, 0, 0, 0, 0, 0, 0, 0, 0, 0, 1, 0, 0, 1, 0, 0, 0, 0, 0, 1, 0, 0, 0, 0, 1, 0, 0, 0, 0, 0, 0, 0, 0, 0, 0, 0, 0, 0, 0, 0, 1, 0, 1, 0, 0, 0, 0, 0, 0, 0, 0, 0, 0, 0, 0, 0, 0, 0, 0, 0, 0, 0, 0, 0, 0, 0, 0, 0, 2, 0, 0, 0, 0, 0, 1, 0, 0, 0, 1, 0, 0, 0, 1, 0, 0, 0, 0, 1, 0, 0, 0, 1, 0, 0, 0, 0, 1, 0, 0, 0, 0, 0, 0, 1, 0, 0, 0, 1, 0, 0, 0, 0, 0, 0, 0, 1, 0, 0, 0, 0, 0, 0, 0, 0, 0, 0, 1, 0, 0, 1, 0, 1, 0, 0, 0, 0, 1, 1, 0, 0, 0, 0, 0, 0, 0, 0, 0, 0]]\n"
          ]
        }
      ]
    },
    {
      "cell_type": "markdown",
      "source": [
        "Se procede a calcular la frecuencia inversa de documento (IDF) para cada término en el corpus. Aplicando la función: IDF=log N/nt"
      ],
      "metadata": {
        "id": "zte1jirqO277"
      },
      "id": "zte1jirqO277"
    },
    {
      "cell_type": "code",
      "source": [
        "N = len(tf_matrix)\n",
        "nt = [sum(1 for doc in tf_matrix if doc[i] > 0) for i in range(len(vocab))]\n",
        "\n",
        "idf = [log10(N / n) if n > 0 else 0 for n in nt]\n",
        "print(idf)"
      ],
      "metadata": {
        "colab": {
          "base_uri": "https://localhost:8080/"
        },
        "id": "oqZyl_ZYNYrF",
        "outputId": "c2ff2c35-3406-4097-9751-dd5e9142766a"
      },
      "id": "oqZyl_ZYNYrF",
      "execution_count": 90,
      "outputs": [
        {
          "output_type": "stream",
          "name": "stdout",
          "text": [
            "[0.9030899869919435, 0.9030899869919435, 0.9030899869919435, 0.9030899869919435, 0.9030899869919435, 0.9030899869919435, 0.9030899869919435, 0.9030899869919435, 0.9030899869919435, 0.9030899869919435, 0.6020599913279624, 0.9030899869919435, 0.4259687322722811, 0.9030899869919435, 0.9030899869919435, 0.9030899869919435, 0.9030899869919435, 0.9030899869919435, 0.4259687322722811, 0.9030899869919435, 0.9030899869919435, 0.9030899869919435, 0.9030899869919435, 0.9030899869919435, 0.9030899869919435, 0.9030899869919435, 0.9030899869919435, 0.6020599913279624, 0.9030899869919435, 0.9030899869919435, 0.9030899869919435, 0.9030899869919435, 0.9030899869919435, 0.9030899869919435, 0.9030899869919435, 0.9030899869919435, 0.9030899869919435, 0.9030899869919435, 0.9030899869919435, 0.9030899869919435, 0.9030899869919435, 0.9030899869919435, 0.9030899869919435, 0.9030899869919435, 0.9030899869919435, 0.9030899869919435, 0.6020599913279624, 0.9030899869919435, 0.9030899869919435, 0.9030899869919435, 0.9030899869919435, 0.9030899869919435, 0.9030899869919435, 0.6020599913279624, 0.9030899869919435, 0.9030899869919435, 0.9030899869919435, 0.6020599913279624, 0.9030899869919435, 0.9030899869919435, 0.6020599913279624, 0.9030899869919435, 0.9030899869919435, 0.9030899869919435, 0.9030899869919435, 0.9030899869919435, 0.9030899869919435, 0.9030899869919435, 0.9030899869919435, 0.9030899869919435, 0.9030899869919435, 0.6020599913279624, 0.9030899869919435, 0.9030899869919435, 0.9030899869919435, 0.9030899869919435, 0.9030899869919435, 0.9030899869919435, 0.9030899869919435, 0.9030899869919435, 0.9030899869919435, 0.9030899869919435, 0.9030899869919435, 0.9030899869919435, 0.9030899869919435, 0.9030899869919435, 0.9030899869919435, 0.9030899869919435, 0.6020599913279624, 0.9030899869919435, 0.6020599913279624, 0.9030899869919435, 0.9030899869919435, 0.9030899869919435, 0.9030899869919435, 0.9030899869919435, 0.9030899869919435, 0.9030899869919435, 0.9030899869919435, 0.9030899869919435, 0.9030899869919435, 0.9030899869919435, 0.9030899869919435, 0.9030899869919435, 0.9030899869919435, 0.4259687322722811, 0.9030899869919435, 0.9030899869919435, 0.9030899869919435, 0.9030899869919435, 0.9030899869919435, 0.9030899869919435, 0.9030899869919435, 0.9030899869919435, 0.9030899869919435, 0.9030899869919435, 0.9030899869919435, 0.9030899869919435, 0.6020599913279624, 0.9030899869919435, 0.9030899869919435, 0.6020599913279624, 0.9030899869919435, 0.9030899869919435, 0.9030899869919435, 0.9030899869919435, 0.9030899869919435, 0.9030899869919435, 0.9030899869919435, 0.9030899869919435, 0.6020599913279624, 0.9030899869919435, 0.9030899869919435, 0.9030899869919435, 0.9030899869919435, 0.9030899869919435, 0.9030899869919435, 0.9030899869919435, 0.9030899869919435, 0.9030899869919435, 0.9030899869919435, 0.9030899869919435, 0.6020599913279624, 0.9030899869919435, 0.9030899869919435, 0.9030899869919435, 0.9030899869919435, 0.9030899869919435, 0.9030899869919435, 0.9030899869919435, 0.9030899869919435, 0.9030899869919435, 0.9030899869919435, 0.9030899869919435, 0.9030899869919435, 0.9030899869919435, 0.6020599913279624, 0.9030899869919435, 0.9030899869919435, 0.9030899869919435, 0.9030899869919435, 0.9030899869919435, 0.9030899869919435, 0.6020599913279624, 0.9030899869919435, 0.9030899869919435, 0.9030899869919435, 0.9030899869919435, 0.9030899869919435, 0.9030899869919435, 0.6020599913279624, 0.9030899869919435, 0.9030899869919435, 0.9030899869919435, 0.6020599913279624, 0.6020599913279624, 0.9030899869919435, 0.9030899869919435, 0.9030899869919435, 0.4259687322722811, 0.9030899869919435, 0.9030899869919435, 0.9030899869919435, 0.9030899869919435, 0.9030899869919435, 0.9030899869919435, 0.9030899869919435, 0.9030899869919435, 0.9030899869919435, 0.9030899869919435, 0.9030899869919435, 0.6020599913279624, 0.9030899869919435, 0.9030899869919435, 0.9030899869919435, 0.9030899869919435]\n"
          ]
        }
      ]
    },
    {
      "cell_type": "markdown",
      "source": [
        "Se calcula matriz tf idf."
      ],
      "metadata": {
        "id": "tqQeDIv5Zg3n"
      },
      "id": "tqQeDIv5Zg3n"
    },
    {
      "cell_type": "code",
      "source": [
        "tfidf_matrix = []\n",
        "\n",
        "for tf_vector in tf_matrix:\n",
        "    tfidf_vector = [tf * idf[i] for i, tf in enumerate(tf_vector)]\n",
        "    tfidf_matrix.append(tfidf_vector)\n",
        "\n",
        "print(tfidf_matrix)"
      ],
      "metadata": {
        "colab": {
          "base_uri": "https://localhost:8080/"
        },
        "id": "XRl228FCPONz",
        "outputId": "aeb62f4a-3924-405b-9bd4-07320618d37b"
      },
      "id": "XRl228FCPONz",
      "execution_count": 91,
      "outputs": [
        {
          "output_type": "stream",
          "name": "stdout",
          "text": [
            "[[0.0, 0.0, 0.0, 0.0, 0.0, 0.9030899869919435, 0.0, 0.0, 0.9030899869919435, 0.0, 0.6020599913279624, 0.0, 0.4259687322722811, 0.0, 0.0, 0.0, 0.0, 0.9030899869919435, 0.0, 0.0, 0.9030899869919435, 0.0, 0.9030899869919435, 0.0, 0.0, 0.0, 0.0, 0.0, 0.0, 0.0, 0.0, 0.0, 0.0, 0.0, 0.0, 0.0, 0.0, 0.0, 0.0, 0.0, 0.0, 0.9030899869919435, 0.9030899869919435, 0.0, 0.0, 0.0, 0.0, 0.0, 0.0, 0.0, 0.0, 0.9030899869919435, 0.9030899869919435, 0.0, 0.0, 0.0, 0.9030899869919435, 0.0, 0.0, 0.0, 0.0, 0.0, 0.0, 0.0, 0.0, 0.0, 0.0, 0.0, 0.9030899869919435, 0.0, 0.9030899869919435, 0.6020599913279624, 0.0, 0.0, 0.0, 0.0, 0.0, 0.0, 0.0, 0.0, 0.0, 0.0, 0.0, 0.0, 0.0, 0.0, 0.9030899869919435, 0.0, 0.0, 0.9030899869919435, 0.0, 0.9030899869919435, 0.0, 0.0, 0.0, 0.0, 0.0, 0.0, 0.0, 0.0, 0.0, 0.0, 0.0, 0.0, 0.0, 0.4259687322722811, 0.0, 0.0, 0.0, 0.0, 0.9030899869919435, 0.0, 0.0, 0.0, 0.0, 0.0, 0.0, 0.0, 0.6020599913279624, 0.0, 0.0, 0.0, 0.0, 0.0, 0.0, 0.0, 0.0, 0.0, 0.0, 0.0, 0.0, 0.0, 0.0, 0.0, 0.0, 0.0, 0.9030899869919435, 0.0, 0.0, 0.0, 0.0, 0.0, 0.0, 0.0, 0.0, 0.0, 0.9030899869919435, 0.0, 0.0, 0.0, 0.0, 0.0, 0.0, 0.0, 0.0, 0.0, 0.0, 0.0, 0.0, 0.0, 0.0, 0.9030899869919435, 0.0, 0.6020599913279624, 0.0, 0.9030899869919435, 0.0, 0.9030899869919435, 0.9030899869919435, 0.9030899869919435, 0.0, 0.0, 0.0, 0.0, 0.0, 0.0, 0.0, 0.0, 0.0, 0.0, 0.0, 0.0, 0.0, 0.9030899869919435, 0.0, 0.0, 0.0, 0.0, 0.0, 0.0, 0.0, 0.0, 0.0, 0.0, 0.0, 0.9030899869919435], [0.0, 0.0, 0.0, 0.0, 0.0, 0.0, 0.9030899869919435, 0.9030899869919435, 0.0, 0.0, 0.0, 0.0, 0.4259687322722811, 0.9030899869919435, 0.9030899869919435, 0.0, 0.0, 0.0, 0.0, 0.0, 0.0, 0.0, 0.0, 0.0, 0.0, 0.0, 0.0, 0.0, 0.0, 0.0, 0.0, 0.0, 0.0, 0.0, 0.9030899869919435, 0.0, 0.0, 0.0, 0.0, 0.0, 0.0, 0.0, 0.0, 0.0, 0.0, 0.0, 0.6020599913279624, 0.0, 0.0, 0.0, 0.0, 0.0, 0.0, 0.0, 0.0, 0.0, 0.0, 0.6020599913279624, 0.0, 0.0, 0.0, 0.0, 0.0, 0.9030899869919435, 0.0, 0.0, 0.0, 0.0, 0.0, 0.0, 0.0, 0.0, 0.0, 0.0, 0.0, 0.0, 0.0, 0.9030899869919435, 0.0, 0.0, 0.0, 0.0, 0.0, 0.0, 0.0, 0.0, 0.0, 0.0, 0.0, 0.0, 0.0, 0.0, 0.0, 0.0, 0.0, 0.0, 0.0, 0.0, 0.0, 0.0, 0.9030899869919435, 0.0, 0.0, 0.9030899869919435, 0.0, 0.4259687322722811, 0.0, 0.9030899869919435, 0.0, 0.9030899869919435, 0.0, 0.0, 0.0, 0.0, 0.0, 0.0, 0.0, 0.0, 0.0, 0.0, 0.9030899869919435, 0.6020599913279624, 0.0, 0.0, 0.9030899869919435, 0.9030899869919435, 0.0, 0.9030899869919435, 0.0, 0.9030899869919435, 0.0, 0.0, 0.0, 0.0, 0.0, 0.0, 0.0, 0.0, 0.0, 0.0, 0.0, 0.0, 0.0, 0.0, 0.0, 0.0, 0.0, 0.0, 0.0, 0.9030899869919435, 0.0, 0.0, 0.0, 0.9030899869919435, 0.0, 0.0, 0.6020599913279624, 0.0, 0.0, 0.0, 0.0, 0.0, 0.0, 0.0, 0.0, 0.0, 0.0, 0.0, 0.0, 0.0, 0.0, 0.0, 0.0, 0.0, 0.0, 0.6020599913279624, 0.0, 0.0, 0.0, 0.0, 0.0, 0.0, 0.0, 0.0, 0.0, 0.0, 0.0, 0.0, 0.0, 0.0, 0.0, 0.0, 0.9030899869919435, 0.9030899869919435, 0.0, 0.0], [0.0, 0.0, 0.0, 0.0, 0.0, 0.0, 0.0, 0.0, 0.0, 0.0, 0.0, 0.0, 0.0, 0.0, 0.0, 0.0, 0.0, 0.0, 0.4259687322722811, 0.0, 0.0, 0.0, 0.0, 0.0, 0.0, 0.0, 0.0, 0.0, 0.9030899869919435, 0.0, 0.0, 0.0, 0.0, 0.9030899869919435, 0.0, 0.0, 0.9030899869919435, 0.9030899869919435, 0.0, 0.9030899869919435, 0.0, 0.0, 0.0, 0.0, 0.0, 0.9030899869919435, 0.0, 0.0, 0.0, 0.0, 0.0, 0.0, 0.0, 0.6020599913279624, 0.0, 0.0, 0.0, 0.0, 0.0, 0.9030899869919435, 0.6020599913279624, 0.0, 0.0, 0.0, 0.0, 0.0, 0.0, 0.0, 0.0, 0.9030899869919435, 0.0, 0.6020599913279624, 0.0, 0.0, 0.0, 0.0, 0.0, 0.0, 0.0, 0.0, 0.0, 0.9030899869919435, 0.0, 0.9030899869919435, 0.0, 0.0, 0.0, 0.0, 0.6020599913279624, 0.0, 0.0, 0.0, 0.0, 0.0, 0.0, 0.0, 0.0, 0.0, 0.0, 0.0, 0.0, 0.0, 0.0, 0.0, 0.0, 0.0, 0.0, 0.0, 0.0, 0.0, 0.0, 0.0, 0.0, 0.0, 0.9030899869919435, 0.0, 0.0, 0.0, 0.0, 0.9030899869919435, 0.0, 0.0, 0.0, 0.0, 0.0, 0.0, 0.0, 0.0, 0.0, 0.0, 0.6020599913279624, 0.9030899869919435, 0.9030899869919435, 0.0, 0.0, 0.0, 0.0, 0.0, 0.9030899869919435, 0.0, 0.0, 0.0, 0.6020599913279624, 0.0, 0.0, 0.0, 0.0, 0.0, 0.0, 0.0, 0.0, 0.0, 0.0, 0.0, 0.0, 0.0, 0.0, 0.0, 0.9030899869919435, 0.0, 0.0, 0.0, 0.9030899869919435, 0.0, 0.0, 0.0, 0.0, 0.0, 0.0, 0.0, 0.6020599913279624, 0.0, 0.0, 0.0, 0.6020599913279624, 0.0, 0.0, 0.0, 0.0, 0.0, 0.0, 0.9030899869919435, 0.0, 0.0, 0.0, 0.0, 0.0, 0.9030899869919435, 0.0, 0.0, 0.0, 0.0, 0.0, 0.0, 0.0, 0.0], [0.9030899869919435, 0.0, 0.0, 0.0, 0.0, 0.0, 0.0, 0.0, 0.0, 0.0, 0.0, 0.9030899869919435, 0.0, 0.0, 0.0, 0.0, 0.9030899869919435, 0.0, 0.0, 0.0, 0.0, 0.0, 0.0, 0.9030899869919435, 0.0, 0.0, 0.0, 0.6020599913279624, 0.0, 0.0, 0.0, 0.0, 0.0, 0.0, 0.0, 0.9030899869919435, 0.0, 0.0, 0.0, 0.0, 0.0, 0.0, 0.0, 0.0, 0.0, 0.0, 0.0, 0.0, 0.0, 0.0, 0.0, 0.0, 0.0, 0.0, 0.0, 0.0, 0.0, 0.0, 0.0, 0.0, 0.6020599913279624, 0.0, 0.9030899869919435, 0.0, 0.9030899869919435, 0.9030899869919435, 0.0, 0.0, 0.0, 0.0, 0.0, 0.0, 0.0, 0.0, 0.0, 0.0, 0.9030899869919435, 0.0, 0.9030899869919435, 0.0, 0.9030899869919435, 0.0, 0.0, 0.0, 0.9030899869919435, 0.0, 0.0, 0.9030899869919435, 0.0, 0.0, 0.0, 0.0, 0.0, 0.0, 0.0, 0.9030899869919435, 0.0, 0.0, 0.0, 0.9030899869919435, 0.0, 0.0, 0.0, 0.0, 0.0, 0.0, 0.9030899869919435, 0.0, 0.0, 0.0, 0.0, 0.0, 0.0, 0.0, 0.0, 0.9030899869919435, 0.0, 0.9030899869919435, 0.0, 0.0, 0.0, 0.6020599913279624, 0.0, 0.0, 0.0, 0.0, 0.0, 0.0, 0.0, 0.0, 0.0, 0.0, 0.0, 0.0, 0.9030899869919435, 0.0, 0.0, 0.0, 0.0, 0.0, 0.0, 0.0, 0.0, 0.0, 0.0, 0.9030899869919435, 0.0, 0.0, 0.0, 0.0, 0.9030899869919435, 0.0, 0.0, 0.0, 0.0, 0.0, 0.0, 0.0, 0.0, 0.0, 0.9030899869919435, 0.0, 0.0, 0.0, 0.0, 0.0, 0.0, 0.0, 0.0, 0.0, 0.6020599913279624, 0.0, 0.0, 0.0, 0.0, 0.0, 0.0, 0.0, 0.0, 0.4259687322722811, 0.9030899869919435, 0.0, 0.0, 0.0, 0.0, 0.0, 0.9030899869919435, 0.0, 0.0, 0.0, 0.0, 0.0, 0.0, 0.0, 0.0, 0.0], [0.0, 0.0, 1.806179973983887, 0.9030899869919435, 0.0, 0.0, 0.0, 0.0, 0.0, 0.0, 0.0, 0.0, 0.0, 0.0, 0.0, 0.0, 0.0, 0.0, 0.0, 0.9030899869919435, 0.0, 0.9030899869919435, 0.0, 0.0, 0.0, 0.0, 0.9030899869919435, 0.0, 0.0, 0.0, 0.0, 0.9030899869919435, 0.9030899869919435, 0.0, 0.0, 0.0, 0.0, 0.0, 0.9030899869919435, 0.0, 0.9030899869919435, 0.0, 0.0, 0.0, 0.9030899869919435, 0.0, 0.0, 0.0, 0.0, 0.9030899869919435, 0.9030899869919435, 0.0, 0.0, 0.0, 0.9030899869919435, 0.9030899869919435, 0.0, 0.0, 0.0, 0.0, 0.0, 0.0, 0.0, 0.0, 0.0, 0.0, 0.9030899869919435, 0.0, 0.0, 0.0, 0.0, 0.0, 0.0, 0.0, 0.0, 0.9030899869919435, 0.0, 0.0, 0.0, 0.9030899869919435, 0.0, 0.0, 0.0, 0.0, 0.0, 0.0, 0.0, 0.0, 0.0, 0.0, 0.0, 0.0, 0.0, 0.0, 0.0, 0.0, 0.0, 0.0, 0.0, 0.0, 0.0, 0.9030899869919435, 0.0, 0.0, 0.0, 0.0, 0.0, 0.0, 0.0, 0.0, 0.0, 0.0, 0.0, 0.0, 0.0, 0.0, 0.0, 0.0, 0.0, 0.0, 0.0, 0.0, 0.0, 0.0, 0.0, 0.0, 0.0, 0.0, 0.0, 0.0, 0.0, 0.0, 0.0, 0.9030899869919435, 0.0, 0.0, 0.0, 0.0, 0.0, 0.0, 0.0, 0.0, 0.6020599913279624, 0.0, 0.0, 0.0, 0.0, 0.0, 0.9030899869919435, 0.0, 0.0, 0.0, 0.0, 0.0, 0.9030899869919435, 0.0, 0.6020599913279624, 0.9030899869919435, 0.0, 0.0, 0.0, 0.0, 0.0, 0.0, 0.0, 0.0, 0.9030899869919435, 0.0, 0.0, 0.0, 0.0, 0.0, 0.0, 0.9030899869919435, 0.0, 0.6020599913279624, 0.0, 0.0, 0.0, 0.0, 0.0, 0.0, 0.9030899869919435, 0.0, 0.0, 0.0, 0.0, 0.0, 0.9030899869919435, 0.9030899869919435, 0.0, 0.0, 0.0, 0.0, 0.9030899869919435, 0.0], [0.0, 0.0, 0.0, 0.0, 0.0, 0.0, 0.0, 0.0, 0.0, 0.0, 0.0, 0.0, 0.4259687322722811, 0.0, 0.0, 0.0, 0.0, 0.0, 0.4259687322722811, 0.0, 0.0, 0.0, 0.0, 0.0, 0.0, 0.0, 0.0, 0.0, 0.0, 0.0, 0.9030899869919435, 0.0, 0.0, 0.0, 0.0, 0.0, 0.0, 0.0, 0.0, 0.0, 0.0, 0.0, 0.0, 0.0, 0.0, 0.0, 0.0, 0.0, 0.0, 0.0, 0.0, 0.0, 0.0, 0.0, 0.0, 0.0, 0.0, 0.0, 0.0, 0.0, 0.0, 0.0, 0.0, 0.0, 0.0, 0.0, 0.0, 0.0, 0.0, 0.0, 0.0, 0.0, 0.0, 0.0, 0.9030899869919435, 0.0, 0.0, 0.0, 0.0, 0.0, 0.0, 0.0, 0.9030899869919435, 0.0, 0.0, 0.9030899869919435, 0.0, 0.0, 0.0, 0.0, 0.6020599913279624, 0.0, 0.9030899869919435, 0.9030899869919435, 0.0, 0.0, 0.9030899869919435, 0.0, 0.9030899869919435, 0.0, 0.0, 0.0, 0.0, 0.0, 0.0, 0.4259687322722811, 0.0, 0.0, 0.9030899869919435, 0.0, 0.0, 0.0, 0.9030899869919435, 0.0, 0.0, 0.0, 0.0, 0.0, 0.0, 0.0, 0.0, 0.0, 0.0, 0.0, 0.0, 0.0, 0.0, 0.0, 0.0, 0.0, 0.0, 0.0, 0.0, 0.0, 0.0, 0.0, 0.0, 0.0, 0.0, 0.0, 0.0, 0.9030899869919435, 0.0, 0.9030899869919435, 0.0, 0.0, 0.0, 0.0, 0.0, 0.0, 0.0, 0.0, 0.0, 0.0, 0.0, 0.0, 0.0, 0.0, 0.0, 0.9030899869919435, 0.0, 0.0, 0.0, 0.0, 0.0, 0.0, 0.0, 0.0, 0.0, 0.0, 0.0, 0.9030899869919435, 0.9030899869919435, 0.0, 0.0, 0.0, 0.9030899869919435, 0.0, 0.9030899869919435, 0.4259687322722811, 0.0, 0.0, 0.0, 0.0, 0.0, 0.0, 0.0, 0.0, 0.0, 0.0, 0.9030899869919435, 0.6020599913279624, 0.0, 0.0, 0.0, 0.0], [0.0, 0.0, 0.0, 0.0, 0.9030899869919435, 0.0, 0.0, 0.0, 0.0, 0.9030899869919435, 0.6020599913279624, 0.0, 0.0, 0.0, 0.0, 0.9030899869919435, 0.0, 0.0, 0.0, 0.0, 0.0, 0.0, 0.0, 0.0, 0.9030899869919435, 0.9030899869919435, 0.0, 0.6020599913279624, 0.0, 0.0, 0.0, 0.0, 0.0, 0.0, 0.0, 0.0, 0.0, 0.0, 0.0, 0.0, 0.0, 0.0, 0.0, 0.9030899869919435, 0.0, 0.0, 0.6020599913279624, 0.0, 0.9030899869919435, 0.0, 0.0, 0.0, 0.0, 0.6020599913279624, 0.0, 0.0, 0.0, 0.6020599913279624, 0.0, 0.0, 0.0, 0.0, 0.0, 0.0, 0.0, 0.0, 0.0, 0.0, 0.0, 0.0, 0.0, 0.0, 0.0, 0.9030899869919435, 0.0, 0.0, 0.0, 0.0, 0.0, 0.0, 0.0, 0.0, 0.0, 0.0, 0.0, 0.0, 0.0, 0.0, 0.0, 0.0, 0.0, 0.0, 0.0, 0.0, 0.9030899869919435, 0.0, 0.0, 0.9030899869919435, 0.0, 0.0, 0.0, 0.0, 0.9030899869919435, 0.0, 0.9030899869919435, 0.0, 0.0, 0.0, 0.0, 0.0, 0.0, 0.9030899869919435, 0.0, 0.9030899869919435, 0.0, 0.0, 0.0, 0.0, 0.6020599913279624, 0.0, 0.0, 0.0, 0.0, 0.9030899869919435, 0.0, 0.0, 0.0, 0.0, 0.9030899869919435, 0.0, 0.0, 0.0, 0.0, 0.0, 0.0, 0.0, 0.0, 0.9030899869919435, 0.0, 0.0, 0.9030899869919435, 0.0, 0.0, 0.0, 0.0, 0.0, 0.0, 0.9030899869919435, 0.0, 0.0, 0.0, 0.0, 0.9030899869919435, 0.0, 0.0, 0.0, 0.0, 0.0, 0.0, 0.0, 0.0, 0.0, 0.0, 0.0, 0.9030899869919435, 0.0, 0.0, 0.0, 0.0, 0.0, 0.0, 0.0, 0.0, 0.0, 0.0, 0.0, 0.0, 0.0, 0.0, 0.0, 0.0, 0.0, 0.0, 0.0, 0.0, 0.0, 0.0, 0.0, 0.0, 0.0, 0.0, 0.6020599913279624, 0.0, 0.0, 0.0, 0.0], [0.0, 0.9030899869919435, 0.0, 0.0, 0.0, 0.0, 0.0, 0.0, 0.0, 0.0, 0.0, 0.0, 0.0, 0.0, 0.0, 0.0, 0.0, 0.0, 0.4259687322722811, 0.0, 0.0, 0.0, 0.0, 0.0, 0.0, 0.0, 0.0, 0.0, 0.0, 0.9030899869919435, 0.0, 0.0, 0.0, 0.0, 0.0, 0.0, 0.0, 0.0, 0.0, 0.0, 0.0, 0.0, 0.0, 0.0, 0.0, 0.0, 0.0, 0.9030899869919435, 0.0, 0.0, 0.0, 0.0, 0.0, 0.0, 0.0, 0.0, 0.0, 0.0, 0.9030899869919435, 0.0, 0.0, 0.9030899869919435, 0.0, 0.0, 0.0, 0.0, 0.0, 0.9030899869919435, 0.0, 0.0, 0.0, 0.0, 0.9030899869919435, 0.0, 0.0, 0.0, 0.0, 0.0, 0.0, 0.0, 0.0, 0.0, 0.0, 0.0, 0.0, 0.0, 0.0, 0.0, 0.6020599913279624, 0.0, 0.6020599913279624, 0.0, 0.0, 0.0, 0.0, 0.0, 0.0, 0.0, 0.0, 0.0, 0.0, 0.0, 0.0, 0.0, 0.0, 0.0, 0.0, 0.0, 0.0, 0.0, 0.0, 0.0, 0.0, 0.0, 0.0, 0.0, 1.806179973983887, 0.0, 0.0, 0.0, 0.0, 0.0, 0.9030899869919435, 0.0, 0.0, 0.0, 0.9030899869919435, 0.0, 0.0, 0.0, 0.6020599913279624, 0.0, 0.0, 0.0, 0.0, 0.9030899869919435, 0.0, 0.0, 0.0, 0.9030899869919435, 0.0, 0.0, 0.0, 0.0, 0.9030899869919435, 0.0, 0.0, 0.0, 0.0, 0.0, 0.0, 0.9030899869919435, 0.0, 0.0, 0.0, 0.9030899869919435, 0.0, 0.0, 0.0, 0.0, 0.0, 0.0, 0.0, 0.6020599913279624, 0.0, 0.0, 0.0, 0.0, 0.0, 0.0, 0.0, 0.0, 0.0, 0.0, 0.6020599913279624, 0.0, 0.0, 0.9030899869919435, 0.0, 0.4259687322722811, 0.0, 0.0, 0.0, 0.0, 0.9030899869919435, 0.9030899869919435, 0.0, 0.0, 0.0, 0.0, 0.0, 0.0, 0.0, 0.0, 0.0, 0.0]]\n"
          ]
        }
      ]
    },
    {
      "cell_type": "markdown",
      "source": [
        "Preprocesamiento de las consultas de manera similar a los documentos."
      ],
      "metadata": {
        "id": "vLcTRYyVb3Ld"
      },
      "id": "vLcTRYyVb3Ld"
    },
    {
      "cell_type": "code",
      "source": [
        "consultas = [\n",
        "    \"inteligencia artificial en medicina\",\n",
        "    \"beneficios de la educación a distancia\",\n",
        "    \"realidad aumentada en videojuegos\",\n",
        "    \"desarrollo personal y hábitos saludables\",\n",
        "    \"futuro del comercio electrónico\",\n",
        "    \"tecnologías en cine moderno\",\n",
        "    \"competencias de e-sports\",\n",
        "    \"diagnóstico con dispositivos portátiles\",\n",
        "    \"literatura de ciencia ficción\",\n",
        "    \"plataformas de streaming\"\n",
        "]\n",
        "\n",
        "preprocessed_consultas = []\n",
        "\n",
        "for consulta in consultas:\n",
        "    consulta = consulta.lower()\n",
        "    palabras = consulta.replace('.', '').replace(',', '').split()\n",
        "    palabras = [palabra for palabra in palabras if palabra not in stop_words]\n",
        "    preprocessed_consultas.append(palabras)\n",
        "\n",
        "print(\"Consultas preprocesadas:\", preprocessed_consultas)"
      ],
      "metadata": {
        "colab": {
          "base_uri": "https://localhost:8080/"
        },
        "id": "YwehJ02raCNy",
        "outputId": "d5b1c5d1-0639-48ce-e1bd-8cc5cb42dfa5"
      },
      "id": "YwehJ02raCNy",
      "execution_count": 92,
      "outputs": [
        {
          "output_type": "stream",
          "name": "stdout",
          "text": [
            "Consultas preprocesadas: [['inteligencia', 'artificial', 'medicina'], ['beneficios', 'educación', 'distancia'], ['realidad', 'aumentada', 'videojuegos'], ['desarrollo', 'personal', 'hábitos', 'saludables'], ['futuro', 'comercio', 'electrónico'], ['tecnologías', 'cine', 'moderno'], ['competencias', 'e-sports'], ['diagnóstico', 'dispositivos', 'portátiles'], ['literatura', 'ciencia', 'ficción'], ['plataformas', 'streaming']]\n"
          ]
        }
      ]
    },
    {
      "cell_type": "markdown",
      "source": [
        "Representación de las consultas en el espacio vectorial TF-IDF.Donde calcula TF para cada término en la consulta usando el vocabulario del corpus y crea la matriz tf idf de la consulta en el espacio vectorial."
      ],
      "metadata": {
        "id": "r6QYyV1Nb9wI"
      },
      "id": "r6QYyV1Nb9wI"
    },
    {
      "cell_type": "code",
      "source": [
        "tfidf_consultas_matrix = []\n",
        "\n",
        "for consulta in preprocessed_consultas:\n",
        "    term_count = {word: consulta.count(word) for word in consulta}\n",
        "\n",
        "    tfidf_vector = []\n",
        "    for word in vocab:\n",
        "        tf = term_count.get(word, 0)\n",
        "        idf_value = idf[vocab.index(word)]\n",
        "        tfidf_vector.append(tf * idf_value)\n",
        "\n",
        "    tfidf_consultas_matrix.append(tfidf_vector)\n",
        "print(tfidf_consultas_matrix)\n"
      ],
      "metadata": {
        "colab": {
          "base_uri": "https://localhost:8080/"
        },
        "id": "hltl9Jmra3L9",
        "outputId": "7d929257-b9e6-432f-e548-f33e434a9e75"
      },
      "id": "hltl9Jmra3L9",
      "execution_count": 93,
      "outputs": [
        {
          "output_type": "stream",
          "name": "stdout",
          "text": [
            "[[0.0, 0.0, 0.0, 0.0, 0.0, 0.0, 0.0, 0.0, 0.0, 0.0, 0.0, 0.0, 0.4259687322722811, 0.0, 0.0, 0.0, 0.0, 0.0, 0.0, 0.0, 0.0, 0.0, 0.0, 0.0, 0.0, 0.0, 0.0, 0.0, 0.0, 0.0, 0.0, 0.0, 0.0, 0.0, 0.0, 0.0, 0.0, 0.0, 0.0, 0.0, 0.0, 0.0, 0.0, 0.0, 0.0, 0.0, 0.0, 0.0, 0.0, 0.0, 0.0, 0.0, 0.0, 0.0, 0.0, 0.0, 0.0, 0.0, 0.0, 0.0, 0.0, 0.0, 0.0, 0.0, 0.0, 0.0, 0.0, 0.0, 0.0, 0.0, 0.0, 0.0, 0.0, 0.0, 0.0, 0.0, 0.0, 0.0, 0.0, 0.0, 0.0, 0.0, 0.0, 0.0, 0.0, 0.0, 0.0, 0.0, 0.0, 0.0, 0.0, 0.0, 0.0, 0.0, 0.0, 0.0, 0.0, 0.0, 0.0, 0.0, 0.0, 0.0, 0.0, 0.0, 0.0, 0.4259687322722811, 0.0, 0.0, 0.0, 0.0, 0.0, 0.0, 0.0, 0.0, 0.0, 0.0, 0.9030899869919435, 0.0, 0.0, 0.0, 0.0, 0.0, 0.0, 0.0, 0.0, 0.0, 0.0, 0.0, 0.0, 0.0, 0.0, 0.0, 0.0, 0.0, 0.0, 0.0, 0.0, 0.0, 0.0, 0.0, 0.0, 0.0, 0.0, 0.0, 0.0, 0.0, 0.0, 0.0, 0.0, 0.0, 0.0, 0.0, 0.0, 0.0, 0.0, 0.0, 0.0, 0.0, 0.0, 0.0, 0.0, 0.0, 0.0, 0.0, 0.0, 0.0, 0.0, 0.0, 0.0, 0.0, 0.0, 0.0, 0.0, 0.0, 0.0, 0.0, 0.0, 0.0, 0.0, 0.0, 0.0, 0.0, 0.0, 0.0, 0.0, 0.0, 0.0, 0.0, 0.0, 0.0, 0.0, 0.0, 0.0, 0.0, 0.0, 0.0], [0.0, 0.0, 0.0, 0.0, 0.0, 0.0, 0.0, 0.0, 0.0, 0.0, 0.0, 0.0, 0.0, 0.0, 0.0, 0.0, 0.0, 0.0, 0.0, 0.0, 0.0, 0.0, 0.0, 0.9030899869919435, 0.0, 0.0, 0.0, 0.0, 0.0, 0.0, 0.0, 0.0, 0.0, 0.0, 0.0, 0.0, 0.0, 0.0, 0.0, 0.0, 0.0, 0.0, 0.0, 0.0, 0.0, 0.0, 0.0, 0.0, 0.0, 0.0, 0.0, 0.0, 0.0, 0.0, 0.0, 0.0, 0.0, 0.0, 0.0, 0.0, 0.0, 0.0, 0.9030899869919435, 0.0, 0.9030899869919435, 0.0, 0.0, 0.0, 0.0, 0.0, 0.0, 0.0, 0.0, 0.0, 0.0, 0.0, 0.0, 0.0, 0.0, 0.0, 0.0, 0.0, 0.0, 0.0, 0.0, 0.0, 0.0, 0.0, 0.0, 0.0, 0.0, 0.0, 0.0, 0.0, 0.0, 0.0, 0.0, 0.0, 0.0, 0.0, 0.0, 0.0, 0.0, 0.0, 0.0, 0.0, 0.0, 0.0, 0.0, 0.0, 0.0, 0.0, 0.0, 0.0, 0.0, 0.0, 0.0, 0.0, 0.0, 0.0, 0.0, 0.0, 0.0, 0.0, 0.0, 0.0, 0.0, 0.0, 0.0, 0.0, 0.0, 0.0, 0.0, 0.0, 0.0, 0.0, 0.0, 0.0, 0.0, 0.0, 0.0, 0.0, 0.0, 0.0, 0.0, 0.0, 0.0, 0.0, 0.0, 0.0, 0.0, 0.0, 0.0, 0.0, 0.0, 0.0, 0.0, 0.0, 0.0, 0.0, 0.0, 0.0, 0.0, 0.0, 0.0, 0.0, 0.0, 0.0, 0.0, 0.0, 0.0, 0.0, 0.0, 0.0, 0.0, 0.0, 0.0, 0.0, 0.0, 0.0, 0.0, 0.0, 0.0, 0.0, 0.0, 0.0, 0.0, 0.0, 0.0, 0.0, 0.0, 0.0, 0.0, 0.0, 0.0, 0.0], [0.0, 0.0, 0.0, 0.0, 0.0, 0.0, 0.0, 0.0, 0.0, 0.0, 0.0, 0.0, 0.0, 0.0, 0.9030899869919435, 0.0, 0.0, 0.0, 0.0, 0.0, 0.0, 0.0, 0.0, 0.0, 0.0, 0.0, 0.0, 0.0, 0.0, 0.0, 0.0, 0.0, 0.0, 0.0, 0.0, 0.0, 0.0, 0.0, 0.0, 0.0, 0.0, 0.0, 0.0, 0.0, 0.0, 0.0, 0.0, 0.0, 0.0, 0.0, 0.0, 0.0, 0.0, 0.0, 0.0, 0.0, 0.0, 0.0, 0.0, 0.0, 0.0, 0.0, 0.0, 0.0, 0.0, 0.0, 0.0, 0.0, 0.0, 0.0, 0.0, 0.0, 0.0, 0.0, 0.0, 0.0, 0.0, 0.0, 0.0, 0.0, 0.0, 0.0, 0.0, 0.0, 0.0, 0.0, 0.0, 0.0, 0.0, 0.0, 0.0, 0.0, 0.0, 0.0, 0.0, 0.0, 0.0, 0.0, 0.0, 0.0, 0.0, 0.0, 0.0, 0.0, 0.0, 0.0, 0.0, 0.0, 0.0, 0.0, 0.0, 0.0, 0.0, 0.0, 0.0, 0.0, 0.0, 0.0, 0.0, 0.0, 0.0, 0.0, 0.0, 0.0, 0.0, 0.0, 0.0, 0.0, 0.0, 0.0, 0.0, 0.0, 0.0, 0.0, 0.0, 0.0, 0.0, 0.0, 0.0, 0.0, 0.0, 0.0, 0.0, 0.0, 0.0, 0.0, 0.0, 0.0, 0.0, 0.0, 0.0, 0.0, 0.0, 0.0, 0.0, 0.0, 0.6020599913279624, 0.0, 0.0, 0.0, 0.0, 0.0, 0.0, 0.0, 0.0, 0.0, 0.0, 0.0, 0.0, 0.0, 0.0, 0.0, 0.0, 0.0, 0.0, 0.0, 0.0, 0.0, 0.0, 0.0, 0.0, 0.0, 0.0, 0.0, 0.0, 0.0, 0.0, 0.0, 0.0, 0.0, 0.0, 0.0, 0.9030899869919435, 0.0, 0.0, 0.0], [0.0, 0.0, 0.0, 0.0, 0.0, 0.0, 0.0, 0.0, 0.0, 0.0, 0.0, 0.0, 0.0, 0.0, 0.0, 0.0, 0.0, 0.0, 0.0, 0.0, 0.0, 0.0, 0.0, 0.0, 0.0, 0.0, 0.0, 0.0, 0.0, 0.0, 0.0, 0.0, 0.0, 0.0, 0.0, 0.0, 0.0, 0.0, 0.0, 0.0, 0.0, 0.0, 0.0, 0.0, 0.0, 0.0, 0.0, 0.0, 0.0, 0.0, 0.0, 0.0, 0.0, 0.0, 0.0, 0.0, 0.0, 0.6020599913279624, 0.0, 0.0, 0.0, 0.0, 0.0, 0.0, 0.0, 0.0, 0.0, 0.0, 0.0, 0.0, 0.0, 0.0, 0.0, 0.0, 0.0, 0.0, 0.0, 0.0, 0.0, 0.0, 0.0, 0.0, 0.0, 0.0, 0.0, 0.0, 0.0, 0.0, 0.0, 0.0, 0.0, 0.0, 0.0, 0.0, 0.0, 0.0, 0.0, 0.9030899869919435, 0.0, 0.0, 0.0, 0.0, 0.0, 0.0, 0.0, 0.0, 0.0, 0.0, 0.0, 0.0, 0.0, 0.0, 0.0, 0.0, 0.0, 0.0, 0.0, 0.0, 0.0, 0.0, 0.0, 0.0, 0.0, 0.0, 0.0, 0.0, 0.0, 0.0, 0.0, 0.0, 0.0, 0.0, 0.0, 0.0, 0.0, 0.0, 0.0, 0.9030899869919435, 0.0, 0.0, 0.0, 0.0, 0.0, 0.0, 0.0, 0.0, 0.0, 0.0, 0.0, 0.0, 0.0, 0.0, 0.0, 0.0, 0.0, 0.0, 0.0, 0.0, 0.0, 0.0, 0.0, 0.0, 0.0, 0.0, 0.9030899869919435, 0.0, 0.0, 0.0, 0.0, 0.0, 0.0, 0.0, 0.0, 0.0, 0.0, 0.0, 0.0, 0.0, 0.0, 0.0, 0.0, 0.0, 0.0, 0.0, 0.0, 0.0, 0.0, 0.0, 0.0, 0.0, 0.0, 0.0, 0.0, 0.0, 0.0, 0.0], [0.0, 0.0, 0.0, 0.0, 0.0, 0.0, 0.0, 0.0, 0.0, 0.0, 0.0, 0.0, 0.0, 0.0, 0.0, 0.0, 0.0, 0.0, 0.0, 0.0, 0.0, 0.0, 0.0, 0.0, 0.0, 0.0, 0.0, 0.0, 0.0, 0.0, 0.0, 0.0, 0.0, 0.9030899869919435, 0.0, 0.0, 0.0, 0.0, 0.0, 0.0, 0.0, 0.0, 0.0, 0.0, 0.0, 0.0, 0.0, 0.0, 0.0, 0.0, 0.0, 0.0, 0.0, 0.0, 0.0, 0.0, 0.0, 0.0, 0.0, 0.0, 0.0, 0.0, 0.0, 0.0, 0.0, 0.0, 0.0, 0.0, 0.0, 0.9030899869919435, 0.0, 0.0, 0.0, 0.0, 0.0, 0.0, 0.0, 0.0, 0.0, 0.0, 0.0, 0.0, 0.0, 0.0, 0.0, 0.0, 0.0, 0.0, 0.0, 0.0, 0.6020599913279624, 0.0, 0.0, 0.0, 0.0, 0.0, 0.0, 0.0, 0.0, 0.0, 0.0, 0.0, 0.0, 0.0, 0.0, 0.0, 0.0, 0.0, 0.0, 0.0, 0.0, 0.0, 0.0, 0.0, 0.0, 0.0, 0.0, 0.0, 0.0, 0.0, 0.0, 0.0, 0.0, 0.0, 0.0, 0.0, 0.0, 0.0, 0.0, 0.0, 0.0, 0.0, 0.0, 0.0, 0.0, 0.0, 0.0, 0.0, 0.0, 0.0, 0.0, 0.0, 0.0, 0.0, 0.0, 0.0, 0.0, 0.0, 0.0, 0.0, 0.0, 0.0, 0.0, 0.0, 0.0, 0.0, 0.0, 0.0, 0.0, 0.0, 0.0, 0.0, 0.0, 0.0, 0.0, 0.0, 0.0, 0.0, 0.0, 0.0, 0.0, 0.0, 0.0, 0.0, 0.0, 0.0, 0.0, 0.0, 0.0, 0.0, 0.0, 0.0, 0.0, 0.0, 0.0, 0.0, 0.0, 0.0, 0.0, 0.0, 0.0, 0.0, 0.0, 0.0, 0.0, 0.0], [0.0, 0.0, 0.0, 0.0, 0.0, 0.0, 0.0, 0.0, 0.0, 0.0, 0.0, 0.0, 0.0, 0.0, 0.0, 0.0, 0.0, 0.0, 0.0, 0.0, 0.0, 0.0, 0.0, 0.0, 0.0, 0.0, 0.0, 0.0, 0.0, 0.0, 0.0, 0.9030899869919435, 0.0, 0.0, 0.0, 0.0, 0.0, 0.0, 0.0, 0.0, 0.0, 0.0, 0.0, 0.0, 0.0, 0.0, 0.0, 0.0, 0.0, 0.0, 0.0, 0.0, 0.0, 0.0, 0.0, 0.0, 0.0, 0.0, 0.0, 0.0, 0.0, 0.0, 0.0, 0.0, 0.0, 0.0, 0.0, 0.0, 0.0, 0.0, 0.0, 0.0, 0.0, 0.0, 0.0, 0.0, 0.0, 0.0, 0.0, 0.0, 0.0, 0.0, 0.0, 0.0, 0.0, 0.0, 0.0, 0.0, 0.0, 0.0, 0.0, 0.0, 0.0, 0.0, 0.0, 0.0, 0.0, 0.0, 0.0, 0.0, 0.0, 0.0, 0.0, 0.0, 0.0, 0.0, 0.0, 0.0, 0.0, 0.0, 0.0, 0.0, 0.0, 0.0, 0.0, 0.0, 0.0, 0.0, 0.0, 0.0, 0.0, 0.0, 0.0, 0.0, 0.0, 0.0, 0.0, 0.0, 0.0, 0.0, 0.0, 0.0, 0.0, 0.0, 0.0, 0.0, 0.0, 0.0, 0.0, 0.0, 0.0, 0.0, 0.0, 0.0, 0.0, 0.0, 0.0, 0.0, 0.0, 0.0, 0.0, 0.0, 0.0, 0.0, 0.0, 0.0, 0.0, 0.0, 0.0, 0.0, 0.0, 0.0, 0.0, 0.0, 0.0, 0.0, 0.0, 0.0, 0.0, 0.0, 0.0, 0.0, 0.0, 0.0, 0.0, 0.6020599913279624, 0.0, 0.0, 0.0, 0.0, 0.0, 0.0, 0.0, 0.0, 0.0, 0.0, 0.0, 0.0, 0.0, 0.0, 0.0, 0.0, 0.0, 0.0, 0.0, 0.0], [0.0, 0.0, 0.0, 0.0, 0.0, 0.0, 0.0, 0.0, 0.0, 0.0, 0.0, 0.0, 0.0, 0.0, 0.0, 0.0, 0.0, 0.0, 0.0, 0.0, 0.0, 0.0, 0.0, 0.0, 0.0, 0.0, 0.0, 0.0, 0.0, 0.0, 0.0, 0.0, 0.0, 0.0, 0.9030899869919435, 0.0, 0.0, 0.0, 0.0, 0.0, 0.0, 0.0, 0.0, 0.0, 0.0, 0.0, 0.0, 0.0, 0.0, 0.0, 0.0, 0.0, 0.0, 0.0, 0.0, 0.0, 0.0, 0.0, 0.0, 0.0, 0.0, 0.0, 0.0, 0.9030899869919435, 0.0, 0.0, 0.0, 0.0, 0.0, 0.0, 0.0, 0.0, 0.0, 0.0, 0.0, 0.0, 0.0, 0.0, 0.0, 0.0, 0.0, 0.0, 0.0, 0.0, 0.0, 0.0, 0.0, 0.0, 0.0, 0.0, 0.0, 0.0, 0.0, 0.0, 0.0, 0.0, 0.0, 0.0, 0.0, 0.0, 0.0, 0.0, 0.0, 0.0, 0.0, 0.0, 0.0, 0.0, 0.0, 0.0, 0.0, 0.0, 0.0, 0.0, 0.0, 0.0, 0.0, 0.0, 0.0, 0.0, 0.0, 0.0, 0.0, 0.0, 0.0, 0.0, 0.0, 0.0, 0.0, 0.0, 0.0, 0.0, 0.0, 0.0, 0.0, 0.0, 0.0, 0.0, 0.0, 0.0, 0.0, 0.0, 0.0, 0.0, 0.0, 0.0, 0.0, 0.0, 0.0, 0.0, 0.0, 0.0, 0.0, 0.0, 0.0, 0.0, 0.0, 0.0, 0.0, 0.0, 0.0, 0.0, 0.0, 0.0, 0.0, 0.0, 0.0, 0.0, 0.0, 0.0, 0.0, 0.0, 0.0, 0.0, 0.0, 0.0, 0.0, 0.0, 0.0, 0.0, 0.0, 0.0, 0.0, 0.0, 0.0, 0.0, 0.0, 0.0, 0.0, 0.0, 0.0, 0.0, 0.0, 0.0, 0.0, 0.0], [0.0, 0.0, 0.0, 0.0, 0.0, 0.0, 0.0, 0.0, 0.0, 0.0, 0.0, 0.0, 0.0, 0.0, 0.0, 0.0, 0.0, 0.0, 0.0, 0.0, 0.0, 0.0, 0.0, 0.0, 0.0, 0.0, 0.0, 0.0, 0.0, 0.0, 0.0, 0.0, 0.0, 0.0, 0.0, 0.0, 0.0, 0.0, 0.0, 0.0, 0.0, 0.0, 0.0, 0.0, 0.0, 0.0, 0.0, 0.0, 0.0, 0.0, 0.0, 0.0, 0.0, 0.0, 0.0, 0.0, 0.0, 0.0, 0.0, 0.0, 0.0, 0.9030899869919435, 0.0, 0.0, 0.0, 0.0, 0.0, 0.0, 0.0, 0.0, 0.0, 0.0, 0.0, 0.0, 0.0, 0.0, 0.0, 0.0, 0.0, 0.0, 0.0, 0.0, 0.0, 0.0, 0.0, 0.0, 0.0, 0.0, 0.0, 0.0, 0.0, 0.0, 0.0, 0.0, 0.0, 0.0, 0.0, 0.0, 0.0, 0.0, 0.0, 0.0, 0.0, 0.0, 0.0, 0.0, 0.0, 0.0, 0.0, 0.0, 0.0, 0.0, 0.0, 0.0, 0.0, 0.0, 0.0, 0.0, 0.0, 0.0, 0.0, 0.0, 0.0, 0.0, 0.0, 0.0, 0.0, 0.0, 0.0, 0.0, 0.0, 0.0, 0.0, 0.0, 0.0, 0.0, 0.0, 0.0, 0.0, 0.0, 0.0, 0.0, 0.0, 0.0, 0.9030899869919435, 0.0, 0.0, 0.0, 0.0, 0.0, 0.0, 0.0, 0.0, 0.0, 0.0, 0.0, 0.0, 0.0, 0.0, 0.0, 0.0, 0.0, 0.0, 0.0, 0.0, 0.0, 0.0, 0.0, 0.0, 0.0, 0.0, 0.0, 0.0, 0.0, 0.0, 0.0, 0.0, 0.0, 0.0, 0.0, 0.0, 0.0, 0.0, 0.0, 0.0, 0.0, 0.0, 0.0, 0.0, 0.0, 0.0, 0.0, 0.0, 0.0, 0.0, 0.0], [0.0, 0.0, 0.0, 0.0, 0.0, 0.0, 0.0, 0.0, 0.0, 0.0, 0.0, 0.0, 0.0, 0.0, 0.0, 0.0, 0.0, 0.0, 0.0, 0.0, 0.0, 0.0, 0.0, 0.0, 0.0, 0.0, 0.0, 0.0, 0.0, 0.0, 0.9030899869919435, 0.0, 0.0, 0.0, 0.0, 0.0, 0.0, 0.0, 0.0, 0.0, 0.0, 0.0, 0.0, 0.0, 0.0, 0.0, 0.0, 0.0, 0.0, 0.0, 0.0, 0.0, 0.0, 0.0, 0.0, 0.0, 0.0, 0.0, 0.0, 0.0, 0.0, 0.0, 0.0, 0.0, 0.0, 0.0, 0.0, 0.0, 0.0, 0.0, 0.0, 0.0, 0.0, 0.0, 0.0, 0.0, 0.0, 0.0, 0.0, 0.0, 0.0, 0.0, 0.0, 0.0, 0.0, 0.9030899869919435, 0.0, 0.0, 0.0, 0.0, 0.0, 0.0, 0.0, 0.0, 0.0, 0.0, 0.0, 0.0, 0.0, 0.0, 0.0, 0.0, 0.0, 0.0, 0.0, 0.0, 0.0, 0.0, 0.0, 0.0, 0.0, 0.0, 0.0, 0.0, 0.0, 0.0, 0.0, 0.0, 0.0, 0.0, 0.0, 0.0, 0.0, 0.0, 0.0, 0.0, 0.0, 0.0, 0.0, 0.0, 0.0, 0.0, 0.0, 0.0, 0.0, 0.0, 0.0, 0.0, 0.0, 0.0, 0.0, 0.0, 0.0, 0.0, 0.0, 0.0, 0.0, 0.0, 0.0, 0.0, 0.0, 0.0, 0.0, 0.0, 0.0, 0.0, 0.0, 0.0, 0.0, 0.0, 0.0, 0.0, 0.0, 0.0, 0.0, 0.0, 0.0, 0.0, 0.0, 0.0, 0.0, 0.0, 0.0, 0.0, 0.0, 0.0, 0.0, 0.0, 0.0, 0.0, 0.0, 0.0, 0.0, 0.0, 0.0, 0.0, 0.0, 0.0, 0.0, 0.0, 0.0, 0.0, 0.0, 0.0, 0.0, 0.0], [0.0, 0.0, 0.0, 0.0, 0.0, 0.0, 0.0, 0.0, 0.0, 0.0, 0.0, 0.0, 0.0, 0.0, 0.0, 0.0, 0.0, 0.0, 0.0, 0.0, 0.0, 0.0, 0.0, 0.0, 0.0, 0.0, 0.0, 0.0, 0.0, 0.0, 0.0, 0.0, 0.0, 0.0, 0.0, 0.0, 0.0, 0.0, 0.0, 0.0, 0.0, 0.0, 0.0, 0.0, 0.0, 0.0, 0.0, 0.0, 0.0, 0.0, 0.0, 0.0, 0.0, 0.0, 0.0, 0.0, 0.0, 0.0, 0.0, 0.0, 0.0, 0.0, 0.0, 0.0, 0.0, 0.0, 0.0, 0.0, 0.0, 0.0, 0.0, 0.0, 0.0, 0.0, 0.0, 0.0, 0.0, 0.0, 0.0, 0.0, 0.0, 0.0, 0.0, 0.0, 0.0, 0.0, 0.0, 0.0, 0.0, 0.0, 0.0, 0.0, 0.0, 0.0, 0.0, 0.0, 0.0, 0.0, 0.0, 0.0, 0.0, 0.0, 0.0, 0.0, 0.0, 0.0, 0.0, 0.0, 0.0, 0.0, 0.0, 0.0, 0.0, 0.0, 0.0, 0.0, 0.0, 0.0, 0.0, 0.0, 0.0, 0.0, 0.0, 0.0, 0.0, 0.0, 0.0, 0.0, 0.0, 0.0, 0.0, 0.0, 0.0, 0.0, 0.0, 0.0, 0.0, 0.0, 0.0, 0.0, 0.0, 0.0, 0.6020599913279624, 0.0, 0.0, 0.0, 0.0, 0.0, 0.0, 0.0, 0.0, 0.0, 0.0, 0.0, 0.0, 0.0, 0.0, 0.0, 0.0, 0.0, 0.0, 0.0, 0.0, 0.0, 0.0, 0.0, 0.0, 0.0, 0.0, 0.0, 0.0, 0.0, 0.0, 0.9030899869919435, 0.0, 0.0, 0.0, 0.0, 0.0, 0.0, 0.0, 0.0, 0.0, 0.0, 0.0, 0.0, 0.0, 0.0, 0.0, 0.0, 0.0, 0.0, 0.0, 0.0, 0.0, 0.0]]\n"
          ]
        }
      ]
    },
    {
      "cell_type": "markdown",
      "source": [
        "Se realiza el cálculo de la similitud entre cada consulta y los documentos del corpus utilizando la similitud del coseno."
      ],
      "metadata": {
        "id": "srfJgcwjc5T4"
      },
      "id": "srfJgcwjc5T4"
    },
    {
      "cell_type": "code",
      "source": [
        "from sklearn.metrics.pairwise import cosine_similarity\n",
        "import pandas as pd\n",
        "\n",
        "tfidf_docs_df = pd.DataFrame(tfidf_matrix, columns=vocab)\n",
        "tfidf_queries_df = pd.DataFrame(tfidf_consultas_matrix, columns=vocab)\n",
        "\n",
        "cosine_similarities = cosine_similarity(tfidf_queries_df, tfidf_docs_df)\n",
        "cosine_similarities_df = pd.DataFrame(cosine_similarities,\n",
        "                                      index=[f'Consulta {i+1}' for i in range(len(preprocessed_consultas))],\n",
        "                                      columns=[f'Documento {j+1}' for j in range(len(tfidf_matrix))])\n",
        "\n",
        "print(\"Similitud del Coseno entre cada consulta y cada documento:\")\n",
        "print(cosine_similarities_df)\n"
      ],
      "metadata": {
        "colab": {
          "base_uri": "https://localhost:8080/"
        },
        "id": "FPNnROHTcgre",
        "outputId": "5a385689-185e-43d2-9267-7d1d14175692"
      },
      "id": "FPNnROHTcgre",
      "execution_count": 94,
      "outputs": [
        {
          "output_type": "stream",
          "name": "stdout",
          "text": [
            "Similitud del Coseno entre cada consulta y cada documento:\n",
            "             Documento 1  Documento 2  Documento 3  Documento 4  Documento 5  \\\n",
            "Consulta 1      0.070946     0.077749     0.000000     0.000000     0.000000   \n",
            "Consulta 2      0.000000     0.000000     0.000000     0.339681     0.000000   \n",
            "Consulta 3      0.000000     0.328391     0.000000     0.000000     0.049992   \n",
            "Consulta 4      0.000000     0.050299     0.000000     0.000000     0.000000   \n",
            "Consulta 5      0.000000     0.000000     0.268029     0.000000     0.000000   \n",
            "Consulta 6      0.000000     0.077673     0.000000     0.000000     0.211361   \n",
            "Consulta 7      0.000000     0.297041     0.000000     0.000000     0.000000   \n",
            "Consulta 8      0.000000     0.000000     0.000000     0.000000     0.000000   \n",
            "Consulta 9      0.000000     0.000000     0.000000     0.000000     0.000000   \n",
            "Consulta 10     0.000000     0.000000     0.077483     0.000000     0.211361   \n",
            "\n",
            "             Documento 6  Documento 7  Documento 8  \n",
            "Consulta 1      0.083233     0.000000     0.342002  \n",
            "Consulta 2      0.000000     0.000000     0.000000  \n",
            "Consulta 3      0.000000     0.000000     0.000000  \n",
            "Consulta 4      0.000000     0.377964     0.000000  \n",
            "Consulta 5      0.063919     0.000000     0.058432  \n",
            "Consulta 6      0.000000     0.000000     0.000000  \n",
            "Consulta 7      0.000000     0.000000     0.000000  \n",
            "Consulta 8      0.000000     0.000000     0.290698  \n",
            "Consulta 9      0.317991     0.000000     0.000000  \n",
            "Consulta 10     0.000000     0.000000     0.000000  \n"
          ]
        }
      ]
    },
    {
      "cell_type": "markdown",
      "source": [
        "Se ordena los documentos de mayor a menor similitud para cada consulta."
      ],
      "metadata": {
        "id": "4AGgjPBldHce"
      },
      "id": "4AGgjPBldHce"
    },
    {
      "cell_type": "code",
      "source": [
        "resultados_ordenados = {}\n",
        "\n",
        "for consulta in cosine_similarities_df.index:\n",
        "    documentos_ordenados = cosine_similarities_df.loc[consulta].sort_values(ascending=False)\n",
        "    resultados_ordenados[consulta] = documentos_ordenados.index.tolist()"
      ],
      "metadata": {
        "id": "i2MHOiB_dACh"
      },
      "id": "i2MHOiB_dACh",
      "execution_count": 95,
      "outputs": []
    },
    {
      "cell_type": "markdown",
      "source": [
        "Se imprime los 3 documentos más relevantes para cada consulta."
      ],
      "metadata": {
        "id": "_60pnyvadrBg"
      },
      "id": "_60pnyvadrBg"
    },
    {
      "cell_type": "code",
      "source": [
        "num_relevantes = 3\n",
        "resultados_relevantes = {}\n",
        "\n",
        "for consulta in cosine_similarities_df.index:\n",
        "    documentos_ordenados = cosine_similarities_df.loc[consulta].sort_values(ascending=False)\n",
        "    documentos_mas_relevantes = documentos_ordenados.head(num_relevantes)\n",
        "    resultados_relevantes[consulta] = documentos_mas_relevantes\n",
        "\n",
        "# Mostrar los documentos más relevantes para cada consulta\n",
        "for consulta, documentos in resultados_relevantes.items():\n",
        "    print(f\"\\n{consulta}:\")\n",
        "    for doc, similitud in documentos.items():\n",
        "        print(f\"{doc}: Similitud = {similitud}\")\n"
      ],
      "metadata": {
        "colab": {
          "base_uri": "https://localhost:8080/"
        },
        "id": "iNiFO3X8dXMe",
        "outputId": "7323822b-363d-43cf-dfb7-043065145fd1"
      },
      "id": "iNiFO3X8dXMe",
      "execution_count": 96,
      "outputs": [
        {
          "output_type": "stream",
          "name": "stdout",
          "text": [
            "\n",
            "Consulta 1:\n",
            "Documento 8: Similitud = 0.3420018156801749\n",
            "Documento 6: Similitud = 0.08323289088405109\n",
            "Documento 2: Similitud = 0.07774926796936832\n",
            "\n",
            "Consulta 2:\n",
            "Documento 4: Similitud = 0.33968141828257\n",
            "Documento 1: Similitud = 0.0\n",
            "Documento 2: Similitud = 0.0\n",
            "\n",
            "Consulta 3:\n",
            "Documento 2: Similitud = 0.3283910361853181\n",
            "Documento 5: Similitud = 0.049992189330578\n",
            "Documento 1: Similitud = 0.0\n",
            "\n",
            "Consulta 4:\n",
            "Documento 7: Similitud = 0.3779644730092273\n",
            "Documento 2: Similitud = 0.05029897071569618\n",
            "Documento 1: Similitud = 0.0\n",
            "\n",
            "Consulta 5:\n",
            "Documento 3: Similitud = 0.26802898696874367\n",
            "Documento 6: Similitud = 0.06391860304981602\n",
            "Documento 8: Similitud = 0.05843245001400352\n",
            "\n",
            "Consulta 6:\n",
            "Documento 5: Similitud = 0.2113611589646981\n",
            "Documento 2: Similitud = 0.0776726761712312\n",
            "Documento 1: Similitud = 0.0\n",
            "\n",
            "Consulta 7:\n",
            "Documento 2: Similitud = 0.2970408686025609\n",
            "Documento 1: Similitud = 0.0\n",
            "Documento 3: Similitud = 0.0\n",
            "\n",
            "Consulta 8:\n",
            "Documento 8: Similitud = 0.29069776841647016\n",
            "Documento 1: Similitud = 0.0\n",
            "Documento 2: Similitud = 0.0\n",
            "\n",
            "Consulta 9:\n",
            "Documento 6: Similitud = 0.3179910351598591\n",
            "Documento 1: Similitud = 0.0\n",
            "Documento 2: Similitud = 0.0\n",
            "\n",
            "Consulta 10:\n",
            "Documento 5: Similitud = 0.2113611589646981\n",
            "Documento 3: Similitud = 0.07748344387862927\n",
            "Documento 1: Similitud = 0.0\n"
          ]
        }
      ]
    }
  ],
  "metadata": {
    "kernelspec": {
      "display_name": "Python 3",
      "language": "python",
      "name": "python3"
    },
    "language_info": {
      "codemirror_mode": {
        "name": "ipython",
        "version": 3
      },
      "file_extension": ".py",
      "mimetype": "text/x-python",
      "name": "python",
      "nbconvert_exporter": "python",
      "pygments_lexer": "ipython3",
      "version": "3.12.4"
    },
    "colab": {
      "provenance": []
    }
  },
  "nbformat": 4,
  "nbformat_minor": 5
}