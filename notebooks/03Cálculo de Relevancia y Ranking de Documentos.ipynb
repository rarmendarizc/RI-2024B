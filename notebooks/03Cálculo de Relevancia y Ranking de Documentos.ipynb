{
  "cells": [
    {
      "metadata": {
        "id": "ba027b5597ab7f20"
      },
      "cell_type": "markdown",
      "source": [
        "# Ejercicio 03: Cálculo de Relevancia y Ranking de Documentos\n",
        "\n",
        "Integrantes: Rossy Armendariz, Alejandro Chavez, Javier Quishpe\n",
        "\n",
        "El objetivo de este ejercicio es calcular analíticamente la relevancia de cada documento en un corpus y luego ordenar (rankear) los documentos basándonos en esa puntuación de relevancia para tres consultas específicas. Seguirás los siguientes pasos:"
      ],
      "id": "ba027b5597ab7f20"
    },
    {
      "metadata": {
        "id": "59292b2666317ed1"
      },
      "cell_type": "markdown",
      "source": [
        "Descripción del Ejercicio\n",
        "\n",
        "1. Procesamiento del Corpus:\n",
        "    * Leer y parsear el archivo XML proporcionado que contiene el corpus de documentos con sus metadatos (keywords, autor y fecha).\n",
        "\n",
        "2. Procesamiento de las Consultas:\n",
        "    * Definir las consultas proporcionadas.\n",
        "    * Extraer las palabras clave de cada consulta.\n",
        "\n",
        "3. Cálculo de Relevancia:\n",
        "    * Utilizar métricas de similitud (Similitud Coseno y Jaccard) entre la representación vectorial de los documentos y las de las consultas.\n",
        "    * Calcular la puntuación de relevancia para cada documento del corpus respecto a cada consulta.\n",
        "\n",
        "4. Ranking de Documentos:\n",
        "    * Ordenar los documentos en función de su puntuación de relevancia de mayor a menor.\n",
        "    * Mostrar el ranking de documentos para cada consulta."
      ],
      "id": "59292b2666317ed1"
    },
    {
      "metadata": {
        "ExecuteTime": {
          "end_time": "2024-11-05T03:17:29.236080Z",
          "start_time": "2024-11-05T03:17:29.201915Z"
        },
        "id": "658a8002d23a7c44"
      },
      "cell_type": "code",
      "source": [
        "# Importar las librerías necesarias\n",
        "import xml.etree.ElementTree as ET\n",
        "\n",
        "# Función para procesar el texto y extraer palabras clave\n",
        "def process_text(text):\n",
        "    # Convertir a minúsculas\n",
        "    text = text.lower()\n",
        "    # Reemplazar caracteres no alfanuméricos por espacios\n",
        "    import re\n",
        "    text = re.sub(r'[^a-záéíóúñü]+', ' ', text)\n",
        "    # Tokenizar y eliminar palabras vacías si es necesario\n",
        "    tokens = text.strip().split()\n",
        "    return set(tokens)\n",
        "\n",
        "# Paso 1: Leer y parsear el archivo XML\n",
        "def parse_corpus(xml_file):\n",
        "    tree = ET.parse(xml_file)\n",
        "    root = tree.getroot()\n",
        "    corpus = {}\n",
        "    for doc in root.findall('document'):\n",
        "        doc_id = int(doc.get('id'))\n",
        "        title = doc.find('title').text\n",
        "        keywords = doc.find('keywords').text\n",
        "        author = doc.find('author').text\n",
        "        date = doc.find('date').text\n",
        "        # Procesar las palabras clave\n",
        "        keyword_set = process_text(keywords)\n",
        "        corpus[doc_id] = {\n",
        "            'title': title,\n",
        "            'keywords': keyword_set,\n",
        "            'author': author,\n",
        "            'date': date\n",
        "        }\n",
        "    return corpus"
      ],
      "id": "658a8002d23a7c44",
      "outputs": [],
      "execution_count": 15
    },
    {
      "metadata": {
        "ExecuteTime": {
          "end_time": "2024-11-05T03:18:06.356513Z",
          "start_time": "2024-11-05T03:18:06.320815Z"
        },
        "colab": {
          "base_uri": "https://localhost:8080/"
        },
        "id": "1c42c7d641142772",
        "outputId": "52190df5-39a1-478b-a9df-c12ad207bff8"
      },
      "cell_type": "code",
      "source": [
        "corpus = parse_corpus('./data/03ranking_corpus.xml')\n",
        "corpus"
      ],
      "id": "1c42c7d641142772",
      "outputs": [
        {
          "output_type": "execute_result",
          "data": {
            "text/plain": [
              "{1: {'title': 'El aumento de la telemedicina para el tratamiento de condiciones de salud crónicas.',\n",
              "  'keywords': {'crónica',\n",
              "   'médica',\n",
              "   'salud',\n",
              "   'tecnología',\n",
              "   'telemedicina',\n",
              "   'tratamiento'},\n",
              "  'author': 'Dr. Juan Pérez',\n",
              "  'date': '2023-01-15'},\n",
              " 2: {'title': 'Cómo la nutrición balanceada afecta el rendimiento académico y la salud mental en estudiantes.',\n",
              "  'keywords': {'académico',\n",
              "   'estudiantes',\n",
              "   'mental',\n",
              "   'nutrición',\n",
              "   'rendimiento',\n",
              "   'salud'},\n",
              "  'author': 'Dra. María López',\n",
              "  'date': '2023-02-10'},\n",
              " 3: {'title': 'Estudio sobre cómo las relaciones de amistad contribuyen al bienestar de los estudiantes en el campus.',\n",
              "  'keywords': {'amistad',\n",
              "   'bienestar',\n",
              "   'campus',\n",
              "   'estudiantil',\n",
              "   'relaciones',\n",
              "   'sociales'},\n",
              "  'author': 'Miguel Rodríguez',\n",
              "  'date': '2023-03-05'},\n",
              " 4: {'title': 'El rol de las bibliotecas universitarias en el fomento de la investigación académica.',\n",
              "  'keywords': {'academia',\n",
              "   'bibliotecas',\n",
              "   'investigación',\n",
              "   'recursos',\n",
              "   'universitarias'},\n",
              "  'author': 'Lucía Martínez',\n",
              "  'date': '2023-04-20'},\n",
              " 5: {'title': 'Cómo los espacios verdes en los campus universitarios pueden mejorar la concentración y reducir el estrés.',\n",
              "  'keywords': {'campus',\n",
              "   'concentración',\n",
              "   'espacios',\n",
              "   'estrés',\n",
              "   'universitario',\n",
              "   'verdes'},\n",
              "  'author': 'Carlos Fernández',\n",
              "  'date': '2023-05-15'},\n",
              " 6: {'title': 'La influencia de la cultura universitaria en los hábitos saludables y el bienestar de los estudiantes.',\n",
              "  'keywords': {'bienestar',\n",
              "   'cultura',\n",
              "   'estudiantes',\n",
              "   'hábitos',\n",
              "   'saludables',\n",
              "   'universitaria'},\n",
              "  'author': 'Ana Sánchez',\n",
              "  'date': '2023-06-10'},\n",
              " 7: {'title': 'La importancia del sueño en la salud mental y el rendimiento académico en jóvenes universitarios.',\n",
              "  'keywords': {'académico',\n",
              "   'mental',\n",
              "   'rendimiento',\n",
              "   'salud',\n",
              "   'sueño',\n",
              "   'universitarios'},\n",
              "  'author': 'Javier Torres',\n",
              "  'date': '2023-07-25'},\n",
              " 8: {'title': 'La influencia del apoyo familiar y social en el bienestar emocional de los estudiantes universitarios.',\n",
              "  'keywords': {'apoyo',\n",
              "   'bienestar',\n",
              "   'emocional',\n",
              "   'estudiantes',\n",
              "   'familiar',\n",
              "   'social'},\n",
              "  'author': 'Laura Gómez',\n",
              "  'date': '2023-08-30'},\n",
              " 9: {'title': 'El impacto de los hábitos de lectura en el desarrollo cognitivo en jóvenes y adultos.',\n",
              "  'keywords': {'adultos',\n",
              "   'cognitivo',\n",
              "   'de',\n",
              "   'desarrollo',\n",
              "   'hábitos',\n",
              "   'jóvenes',\n",
              "   'lectura'},\n",
              "  'author': 'Fernando Ruiz',\n",
              "  'date': '2023-09-18'},\n",
              " 10: {'title': 'Avances en la tecnología para la medicina preventiva y su aplicación en jóvenes.',\n",
              "  'keywords': {'avances',\n",
              "   'jóvenes',\n",
              "   'medicina',\n",
              "   'médica',\n",
              "   'preventiva',\n",
              "   'tecnología',\n",
              "   'tecnológicos'},\n",
              "  'author': 'Elena Navarro',\n",
              "  'date': '2023-10-05'},\n",
              " 11: {'title': 'Impacto de la práctica regular de ejercicio en la reducción del estrés académico en estudiantes universitarios.',\n",
              "  'keywords': {'académico',\n",
              "   'ejercicio',\n",
              "   'estrés',\n",
              "   'estudiantes',\n",
              "   'salud',\n",
              "   'universitarios'},\n",
              "  'author': 'Diego Castro',\n",
              "  'date': '2023-11-12'},\n",
              " 12: {'title': 'El papel del mindfulness y la meditación en la reducción de la ansiedad en estudiantes universitarios.',\n",
              "  'keywords': {'ansiedad',\n",
              "   'estudiantes',\n",
              "   'meditación',\n",
              "   'mindfulness',\n",
              "   'universitarios'},\n",
              "  'author': 'Sofía Vega',\n",
              "  'date': '2023-12-01'},\n",
              " 13: {'title': 'Estrategias para mejorar la salud mental en estudiantes universitarios: el rol del apoyo psicológico y los grupos de estudio en el campus.',\n",
              "  'keywords': {'apoyo',\n",
              "   'de',\n",
              "   'estudiantes',\n",
              "   'estudio',\n",
              "   'grupos',\n",
              "   'mental',\n",
              "   'psicológico',\n",
              "   'salud',\n",
              "   'universitarios'},\n",
              "  'author': 'Marcos Ortiz',\n",
              "  'date': '2024-01-10'},\n",
              " 14: {'title': 'Cómo el acceso a servicios de salud mental en la universidad puede mejorar el desempeño académico.',\n",
              "  'keywords': {'académico',\n",
              "   'desempeño',\n",
              "   'estudiantes',\n",
              "   'mental',\n",
              "   'salud',\n",
              "   'servicios',\n",
              "   'universitarios'},\n",
              "  'author': 'Paula Morales',\n",
              "  'date': '2024-02-15'},\n",
              " 15: {'title': 'Beneficios de las actividades extracurriculares para el bienestar emocional y social de los estudiantes.',\n",
              "  'keywords': {'actividades',\n",
              "   'bienestar',\n",
              "   'emocional',\n",
              "   'estudiantes',\n",
              "   'extracurriculares',\n",
              "   'social'},\n",
              "  'author': 'José Herrera',\n",
              "  'date': '2024-03-05'},\n",
              " 16: {'title': 'El papel de los laboratorios de innovación educativa en el desarrollo de competencias tecnológicas.',\n",
              "  'keywords': {'competencias',\n",
              "   'de',\n",
              "   'desarrollo',\n",
              "   'educación',\n",
              "   'innovación',\n",
              "   'laboratorios',\n",
              "   'tecnológicas'},\n",
              "  'author': 'Andrea Díaz',\n",
              "  'date': '2024-04-20'},\n",
              " 17: {'title': 'Tendencias actuales en el diseño de campus para fomentar la interacción y colaboración.',\n",
              "  'keywords': {'campus',\n",
              "   'colaboración',\n",
              "   'de',\n",
              "   'diseño',\n",
              "   'interacción',\n",
              "   'tendencias'},\n",
              "  'author': 'Sergio Muñoz',\n",
              "  'date': '2024-05-15'},\n",
              " 18: {'title': 'Diferencias en el bienestar académico entre estudiantes que trabajan y aquellos que solo estudian.',\n",
              "  'keywords': {'académico',\n",
              "   'bienestar',\n",
              "   'comparación',\n",
              "   'estudiantes',\n",
              "   'que',\n",
              "   'rendimiento',\n",
              "   'trabajan'},\n",
              "  'author': 'Isabel Flores',\n",
              "  'date': '2024-06-10'},\n",
              " 19: {'title': 'Factores de riesgo y estrategias para prevenir el agotamiento académico en estudiantes universitarios.',\n",
              "  'keywords': {'académico',\n",
              "   'agotamiento',\n",
              "   'de',\n",
              "   'estudiantes',\n",
              "   'factores',\n",
              "   'prevención',\n",
              "   'riesgo',\n",
              "   'universitarios'},\n",
              "  'author': 'Ricardo Ramos',\n",
              "  'date': '2024-07-25'},\n",
              " 20: {'title': 'El impacto de la tecnología y el uso de redes sociales en la calidad del sueño en estudiantes.',\n",
              "  'keywords': {'calidad',\n",
              "   'del',\n",
              "   'estudiantes',\n",
              "   'redes',\n",
              "   'sociales',\n",
              "   'sueño',\n",
              "   'tecnología'},\n",
              "  'author': 'Valeria Castillo',\n",
              "  'date': '2024-08-30'},\n",
              " 21: {'title': 'Investigación sobre el impacto de las tecnologías verdes en los edificios de las universidades.',\n",
              "  'keywords': {'ambiental',\n",
              "   'edificios',\n",
              "   'impacto',\n",
              "   'sostenibilidad',\n",
              "   'tecnologías',\n",
              "   'universitarios',\n",
              "   'verdes'},\n",
              "  'author': 'Daniel Medina',\n",
              "  'date': '2024-09-18'},\n",
              " 22: {'title': 'Estudio sobre el uso de bicicletas compartidas en universidades para mejorar la movilidad.',\n",
              "  'keywords': {'bicicletas',\n",
              "   'compartidas',\n",
              "   'movilidad',\n",
              "   'sostenible',\n",
              "   'transporte',\n",
              "   'universidades'},\n",
              "  'author': 'Patricia Reyes',\n",
              "  'date': '2024-10-05'},\n",
              " 23: {'title': 'Cómo la carga de trabajo académico afecta la salud emocional de los estudiantes y qué pueden hacer las universidades para ayudar.',\n",
              "  'keywords': {'académica',\n",
              "   'apoyo',\n",
              "   'carga',\n",
              "   'emocional',\n",
              "   'estudiantes',\n",
              "   'salud',\n",
              "   'universitario'},\n",
              "  'author': 'Gonzalo Soto',\n",
              "  'date': '2024-11-12'},\n",
              " 24: {'title': 'Estrategias para equilibrar vida social y académica en estudiantes de universidades intensivas.',\n",
              "  'keywords': {'académica',\n",
              "   'equilibrio',\n",
              "   'estrategias',\n",
              "   'estudiantes',\n",
              "   'social',\n",
              "   'vida'},\n",
              "  'author': 'Camila Aguilar',\n",
              "  'date': '2024-12-01'},\n",
              " 25: {'title': 'La relación entre actividades artísticas y el bienestar psicológico en la vida universitaria.',\n",
              "  'keywords': {'actividades',\n",
              "   'artísticas',\n",
              "   'bienestar',\n",
              "   'creatividad',\n",
              "   'psicológico',\n",
              "   'universitaria',\n",
              "   'vida'},\n",
              "  'author': 'Adrián Vargas',\n",
              "  'date': '2025-01-10'},\n",
              " 26: {'title': 'Los beneficios de los programas de becas para la retención de estudiantes en universidades.',\n",
              "  'keywords': {'becas',\n",
              "   'beneficios',\n",
              "   'de',\n",
              "   'estudiantes',\n",
              "   'programas',\n",
              "   'retención',\n",
              "   'universidades'},\n",
              "  'author': 'Teresa Romero',\n",
              "  'date': '2025-02-15'},\n",
              " 27: {'title': 'El rol de los deportes y la actividad física en la integración social y emocional de los estudiantes.',\n",
              "  'keywords': {'actividad',\n",
              "   'deportes',\n",
              "   'estudiantes',\n",
              "   'física',\n",
              "   'integración',\n",
              "   'social'},\n",
              "  'author': 'Alberto Peña',\n",
              "  'date': '2025-03-05'},\n",
              " 28: {'title': 'Cómo los eventos y talleres de bienestar organizados por la universidad ayudan a reducir el estrés.',\n",
              "  'keywords': {'bienestar',\n",
              "   'de',\n",
              "   'del',\n",
              "   'estrés',\n",
              "   'eventos',\n",
              "   'reducción',\n",
              "   'talleres',\n",
              "   'universidad'},\n",
              "  'author': 'Silvia Campos',\n",
              "  'date': '2025-04-20'},\n",
              " 29: {'title': 'Análisis de los hábitos de sueño y su relación con el rendimiento en exámenes universitarios.',\n",
              "  'keywords': {'análisis',\n",
              "   'de',\n",
              "   'en',\n",
              "   'estudiantes',\n",
              "   'exámenes',\n",
              "   'hábitos',\n",
              "   'rendimiento',\n",
              "   'sueño'},\n",
              "  'author': 'Óscar Luna',\n",
              "  'date': '2025-05-15'},\n",
              " 30: {'title': 'Cómo la inteligencia artificial está mejorando el acceso a servicios médicos en comunidades remotas.',\n",
              "  'keywords': {'artificial',\n",
              "   'comunidades',\n",
              "   'inteligencia',\n",
              "   'médicos',\n",
              "   'remotas',\n",
              "   'servicios',\n",
              "   'tecnología'},\n",
              "  'author': 'María Paredes',\n",
              "  'date': '2025-06-10'}}"
            ]
          },
          "metadata": {},
          "execution_count": 16
        }
      ],
      "execution_count": 16
    },
    {
      "cell_type": "markdown",
      "source": [
        "# Procesamiento de las Consultas"
      ],
      "metadata": {
        "id": "_EwGNr5gmGLd"
      },
      "id": "_EwGNr5gmGLd"
    },
    {
      "cell_type": "markdown",
      "source": [
        "Se define las consultas."
      ],
      "metadata": {
        "id": "XMtYlC8Ql9N8"
      },
      "id": "XMtYlC8Ql9N8"
    },
    {
      "metadata": {
        "id": "b8f99c9907e6568e"
      },
      "cell_type": "code",
      "outputs": [],
      "execution_count": 17,
      "source": [
        "# Definir las consultas\n",
        "queries = {\n",
        "    1: \"Impacto de la salud mental en el rendimiento académico de los estudiantes universitarios\",\n",
        "    2: \"Actividades extracurriculares y bienestar emocional en el campus universitario\",\n",
        "    3: \"Estrategias universitarias para reducir el estrés en estudiantes\"\n",
        "}"
      ],
      "id": "b8f99c9907e6568e"
    },
    {
      "cell_type": "markdown",
      "source": [
        "Se extrae las palabras clave de cada consulta."
      ],
      "metadata": {
        "id": "rZGKimELmIrN"
      },
      "id": "rZGKimELmIrN"
    },
    {
      "cell_type": "code",
      "source": [
        "for q_id, query in queries.items():\n",
        "    query_keywords = process_text(query)\n",
        "    print(f\"Consulta {q_id}: {query}\")\n",
        "    print(f\"Palabras clave: {query_keywords}\\n\")"
      ],
      "metadata": {
        "colab": {
          "base_uri": "https://localhost:8080/"
        },
        "id": "BNk0QRdzl8dZ",
        "outputId": "74c2bc06-766c-46e9-ff03-a03f4acf59ec"
      },
      "id": "BNk0QRdzl8dZ",
      "execution_count": 18,
      "outputs": [
        {
          "output_type": "stream",
          "name": "stdout",
          "text": [
            "Consulta 1: Impacto de la salud mental en el rendimiento académico de los estudiantes universitarios\n",
            "Palabras clave: {'la', 'mental', 'impacto', 'rendimiento', 'los', 'en', 'académico', 'de', 'estudiantes', 'universitarios', 'el', 'salud'}\n",
            "\n",
            "Consulta 2: Actividades extracurriculares y bienestar emocional en el campus universitario\n",
            "Palabras clave: {'y', 'en', 'emocional', 'el', 'actividades', 'universitario', 'bienestar', 'extracurriculares', 'campus'}\n",
            "\n",
            "Consulta 3: Estrategias universitarias para reducir el estrés en estudiantes\n",
            "Palabras clave: {'reducir', 'para', 'estrés', 'en', 'universitarias', 'estrategias', 'estudiantes', 'el'}\n",
            "\n"
          ]
        }
      ]
    },
    {
      "cell_type": "markdown",
      "source": [
        "# Cálculo de Relevancia"
      ],
      "metadata": {
        "id": "00AKn8TAmFyN"
      },
      "id": "00AKn8TAmFyN"
    },
    {
      "cell_type": "markdown",
      "source": [
        "Se utiliza las métricas de similitud Coseno y Jaccard entre la representación vectorial de los documentos y las de las consultas."
      ],
      "metadata": {
        "id": "enUOdZpznDMN"
      },
      "id": "enUOdZpznDMN"
    },
    {
      "cell_type": "code",
      "source": [
        "import math\n",
        "\n",
        "# Calcular Similitud de Coseno\n",
        "def cosine_similarity(set1, set2):\n",
        "    intersection = set1.intersection(set2)\n",
        "    return len(intersection) / math.sqrt(len(set1) * len(set2)) if set1 and set2 else 0\n",
        "\n",
        "# Calcular Similitud de Jaccard\n",
        "def jaccard_similarity(set1, set2):\n",
        "    intersection = set1.intersection(set2)\n",
        "    union = set1.union(set2)\n",
        "    return len(intersection) / len(union) if union else 0"
      ],
      "metadata": {
        "id": "0QXWbTh1mWBB"
      },
      "id": "0QXWbTh1mWBB",
      "execution_count": 19,
      "outputs": []
    },
    {
      "cell_type": "markdown",
      "source": [
        "Se calcula la puntuación de relevancia para cada documento del corpus respecto a cada consulta."
      ],
      "metadata": {
        "id": "9wvNVEN5nPHc"
      },
      "id": "9wvNVEN5nPHc"
    },
    {
      "cell_type": "code",
      "source": [
        "# Diccionario para almacenar las puntuaciones de relevancia para cada consulta\n",
        "scores = {q_id: [] for q_id in queries}\n",
        "\n",
        "for q_id, query in queries.items():\n",
        "    query_keywords = process_text(query)\n",
        "    for doc_id, doc_data in corpus.items():\n",
        "        doc_keywords = doc_data['keywords']\n",
        "        jaccard_score = jaccard_similarity(query_keywords, doc_keywords)\n",
        "        cosine_score = cosine_similarity(query_keywords, doc_keywords)\n",
        "        relevance_score = (jaccard_score + cosine_score) / 2 # Promedio para la puntuación de relevancia\n",
        "        scores[q_id].append((doc_id, relevance_score))"
      ],
      "metadata": {
        "id": "87wM9MLrmu2o"
      },
      "id": "87wM9MLrmu2o",
      "execution_count": 20,
      "outputs": []
    },
    {
      "cell_type": "markdown",
      "source": [
        "# Ranking de Documentos\n",
        "Se ordena los documentos por relevancia para cada consulta respectiva."
      ],
      "metadata": {
        "id": "8VBa0-A0n1te"
      },
      "id": "8VBa0-A0n1te"
    },
    {
      "cell_type": "code",
      "source": [
        "ranked_docs = {q_id: sorted(scores[q_id], key=lambda x: x[1], reverse=True) for q_id in queries}"
      ],
      "metadata": {
        "id": "UIFCB3PHnk4P"
      },
      "id": "UIFCB3PHnk4P",
      "execution_count": 21,
      "outputs": []
    },
    {
      "cell_type": "markdown",
      "source": [
        "Mostrar el ranking de documentos para cada consulta."
      ],
      "metadata": {
        "id": "nZYXqHkaoFdA"
      },
      "id": "nZYXqHkaoFdA"
    },
    {
      "cell_type": "code",
      "source": [
        "for q_id, ranking in ranked_docs.items():\n",
        "    print(f\"Consulta {q_id}: {queries[q_id]}\")\n",
        "    for rank, (doc_id, score) in enumerate(ranking, start=1):\n",
        "        print(f\"  {rank}. Documento ID {doc_id} - Puntuación de relevancia: {score:.4f}\")"
      ],
      "metadata": {
        "colab": {
          "base_uri": "https://localhost:8080/"
        },
        "id": "_Iukm1LcnjEE",
        "outputId": "5563d0c9-9446-41b8-b552-7d21d81c6706"
      },
      "id": "_Iukm1LcnjEE",
      "execution_count": 22,
      "outputs": [
        {
          "output_type": "stream",
          "name": "stdout",
          "text": [
            "Consulta 1: Impacto de la salud mental en el rendimiento académico de los estudiantes universitarios\n",
            "  1. Documento ID 2 - Puntuación de relevancia: 0.4869\n",
            "  2. Documento ID 7 - Puntuación de relevancia: 0.4869\n",
            "  3. Documento ID 14 - Puntuación de relevancia: 0.4513\n",
            "  4. Documento ID 13 - Puntuación de relevancia: 0.3968\n",
            "  5. Documento ID 11 - Puntuación de relevancia: 0.3786\n",
            "  6. Documento ID 19 - Puntuación de relevancia: 0.3291\n",
            "  7. Documento ID 29 - Puntuación de relevancia: 0.3291\n",
            "  8. Documento ID 18 - Puntuación de relevancia: 0.2574\n",
            "  9. Documento ID 12 - Puntuación de relevancia: 0.1958\n",
            "  10. Documento ID 21 - Puntuación de relevancia: 0.1679\n",
            "  11. Documento ID 23 - Puntuación de relevancia: 0.1679\n",
            "  12. Documento ID 26 - Puntuación de relevancia: 0.1679\n",
            "  13. Documento ID 1 - Puntuación de relevancia: 0.0883\n",
            "  14. Documento ID 6 - Puntuación de relevancia: 0.0883\n",
            "  15. Documento ID 8 - Puntuación de relevancia: 0.0883\n",
            "  16. Documento ID 15 - Puntuación de relevancia: 0.0883\n",
            "  17. Documento ID 17 - Puntuación de relevancia: 0.0883\n",
            "  18. Documento ID 24 - Puntuación de relevancia: 0.0883\n",
            "  19. Documento ID 27 - Puntuación de relevancia: 0.0883\n",
            "  20. Documento ID 9 - Puntuación de relevancia: 0.0823\n",
            "  21. Documento ID 16 - Puntuación de relevancia: 0.0823\n",
            "  22. Documento ID 20 - Puntuación de relevancia: 0.0823\n",
            "  23. Documento ID 28 - Puntuación de relevancia: 0.0773\n",
            "  24. Documento ID 3 - Puntuación de relevancia: 0.0000\n",
            "  25. Documento ID 4 - Puntuación de relevancia: 0.0000\n",
            "  26. Documento ID 5 - Puntuación de relevancia: 0.0000\n",
            "  27. Documento ID 10 - Puntuación de relevancia: 0.0000\n",
            "  28. Documento ID 22 - Puntuación de relevancia: 0.0000\n",
            "  29. Documento ID 25 - Puntuación de relevancia: 0.0000\n",
            "  30. Documento ID 30 - Puntuación de relevancia: 0.0000\n",
            "Consulta 2: Actividades extracurriculares y bienestar emocional en el campus universitario\n",
            "  1. Documento ID 15 - Puntuación de relevancia: 0.4540\n",
            "  2. Documento ID 3 - Puntuación de relevancia: 0.2130\n",
            "  3. Documento ID 5 - Puntuación de relevancia: 0.2130\n",
            "  4. Documento ID 8 - Puntuación de relevancia: 0.2130\n",
            "  5. Documento ID 23 - Puntuación de relevancia: 0.1974\n",
            "  6. Documento ID 25 - Puntuación de relevancia: 0.1974\n",
            "  7. Documento ID 6 - Puntuación de relevancia: 0.1038\n",
            "  8. Documento ID 17 - Puntuación de relevancia: 0.1038\n",
            "  9. Documento ID 18 - Puntuación de relevancia: 0.0963\n",
            "  10. Documento ID 28 - Puntuación de relevancia: 0.0902\n",
            "  11. Documento ID 29 - Puntuación de relevancia: 0.0902\n",
            "  12. Documento ID 1 - Puntuación de relevancia: 0.0000\n",
            "  13. Documento ID 2 - Puntuación de relevancia: 0.0000\n",
            "  14. Documento ID 4 - Puntuación de relevancia: 0.0000\n",
            "  15. Documento ID 7 - Puntuación de relevancia: 0.0000\n",
            "  16. Documento ID 9 - Puntuación de relevancia: 0.0000\n",
            "  17. Documento ID 10 - Puntuación de relevancia: 0.0000\n",
            "  18. Documento ID 11 - Puntuación de relevancia: 0.0000\n",
            "  19. Documento ID 12 - Puntuación de relevancia: 0.0000\n",
            "  20. Documento ID 13 - Puntuación de relevancia: 0.0000\n",
            "  21. Documento ID 14 - Puntuación de relevancia: 0.0000\n",
            "  22. Documento ID 16 - Puntuación de relevancia: 0.0000\n",
            "  23. Documento ID 19 - Puntuación de relevancia: 0.0000\n",
            "  24. Documento ID 20 - Puntuación de relevancia: 0.0000\n",
            "  25. Documento ID 21 - Puntuación de relevancia: 0.0000\n",
            "  26. Documento ID 22 - Puntuación de relevancia: 0.0000\n",
            "  27. Documento ID 24 - Puntuación de relevancia: 0.0000\n",
            "  28. Documento ID 26 - Puntuación de relevancia: 0.0000\n",
            "  29. Documento ID 27 - Puntuación de relevancia: 0.0000\n",
            "  30. Documento ID 30 - Puntuación de relevancia: 0.0000\n",
            "Consulta 3: Estrategias universitarias para reducir el estrés en estudiantes\n",
            "  1. Documento ID 11 - Puntuación de relevancia: 0.2277\n",
            "  2. Documento ID 24 - Puntuación de relevancia: 0.2277\n",
            "  3. Documento ID 29 - Puntuación de relevancia: 0.1964\n",
            "  4. Documento ID 4 - Puntuación de relevancia: 0.1207\n",
            "  5. Documento ID 12 - Puntuación de relevancia: 0.1207\n",
            "  6. Documento ID 2 - Puntuación de relevancia: 0.1106\n",
            "  7. Documento ID 5 - Puntuación de relevancia: 0.1106\n",
            "  8. Documento ID 6 - Puntuación de relevancia: 0.1106\n",
            "  9. Documento ID 8 - Puntuación de relevancia: 0.1106\n",
            "  10. Documento ID 15 - Puntuación de relevancia: 0.1106\n",
            "  11. Documento ID 27 - Puntuación de relevancia: 0.1106\n",
            "  12. Documento ID 14 - Puntuación de relevancia: 0.1025\n",
            "  13. Documento ID 18 - Puntuación de relevancia: 0.1025\n",
            "  14. Documento ID 20 - Puntuación de relevancia: 0.1025\n",
            "  15. Documento ID 23 - Puntuación de relevancia: 0.1025\n",
            "  16. Documento ID 26 - Puntuación de relevancia: 0.1025\n",
            "  17. Documento ID 19 - Puntuación de relevancia: 0.0958\n",
            "  18. Documento ID 28 - Puntuación de relevancia: 0.0958\n",
            "  19. Documento ID 13 - Puntuación de relevancia: 0.0902\n",
            "  20. Documento ID 1 - Puntuación de relevancia: 0.0000\n",
            "  21. Documento ID 3 - Puntuación de relevancia: 0.0000\n",
            "  22. Documento ID 7 - Puntuación de relevancia: 0.0000\n",
            "  23. Documento ID 9 - Puntuación de relevancia: 0.0000\n",
            "  24. Documento ID 10 - Puntuación de relevancia: 0.0000\n",
            "  25. Documento ID 16 - Puntuación de relevancia: 0.0000\n",
            "  26. Documento ID 17 - Puntuación de relevancia: 0.0000\n",
            "  27. Documento ID 21 - Puntuación de relevancia: 0.0000\n",
            "  28. Documento ID 22 - Puntuación de relevancia: 0.0000\n",
            "  29. Documento ID 25 - Puntuación de relevancia: 0.0000\n",
            "  30. Documento ID 30 - Puntuación de relevancia: 0.0000\n"
          ]
        }
      ]
    }
  ],
  "metadata": {
    "kernelspec": {
      "display_name": "Python 3",
      "language": "python",
      "name": "python3"
    },
    "language_info": {
      "codemirror_mode": {
        "name": "ipython",
        "version": 2
      },
      "file_extension": ".py",
      "mimetype": "text/x-python",
      "name": "python",
      "nbconvert_exporter": "python",
      "pygments_lexer": "ipython2",
      "version": "2.7.6"
    },
    "colab": {
      "provenance": []
    }
  },
  "nbformat": 4,
  "nbformat_minor": 5
}