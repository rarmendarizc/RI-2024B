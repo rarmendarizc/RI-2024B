{
 "cells": [
  {
   "cell_type": "code",
   "execution_count": null,
   "metadata": {},
   "outputs": [
    {
     "name": "stdout",
     "output_type": "stream",
     "text": [
      "\n",
      "Archivo cargado correctamente.\n",
      "\n",
      "Estructura del dataset:\n",
      "<class 'pandas.core.frame.DataFrame'>\n",
      "RangeIndex: 34886 entries, 0 to 34885\n",
      "Data columns (total 8 columns):\n",
      " #   Column            Non-Null Count  Dtype \n",
      "---  ------            --------------  ----- \n",
      " 0   Release Year      34886 non-null  int64 \n",
      " 1   Title             34886 non-null  object\n",
      " 2   Origin/Ethnicity  34886 non-null  object\n",
      " 3   Director          34886 non-null  object\n",
      " 4   Cast              33464 non-null  object\n",
      " 5   Genre             34886 non-null  object\n",
      " 6   Wiki Page         34886 non-null  object\n",
      " 7   Plot              34886 non-null  object\n",
      "dtypes: int64(1), object(7)\n",
      "memory usage: 2.1+ MB\n",
      "None\n",
      "\n",
      "Datos seleccionados con éxito (Title y Plot).\n",
      "\n",
      "Dataset completo guardado en: ./data\\full_movies_data.csv\n"
     ]
    }
   ],
   "source": [
    "import numpy as np\n",
    "import pandas as pd\n",
    "import os\n",
    "\n",
    "# Ruta local para buscar los datos en tu entorno\n",
    "base_dir = './data'\n",
    "file_name = 'wiki_movie_plots_deduped.csv'\n",
    "\n",
    "file_path = os.path.join(base_dir, file_name)\n",
    "\n",
    "# Leer el archivo CSV\n",
    "try:\n",
    "    data = pd.read_csv(file_path)\n",
    "    print(\"\\nArchivo cargado correctamente.\")\n",
    "except FileNotFoundError:\n",
    "    print(f\"\\nArchivo no encontrado en: {file_path}. Verifica la ruta.\")\n",
    "\n",
    "# Visualizar la estructura del dataset\n",
    "print(\"\\nEstructura del dataset:\")\n",
    "print(data.info())\n",
    "\n",
    "# Seleccionar solo las columnas necesarias: Title y Plot\n",
    "if 'Title' in data.columns and 'Plot' in data.columns:\n",
    "    movies = data[['Title', 'Plot']]\n",
    "    print(\"\\nDatos seleccionados con éxito (Title y Plot).\")\n",
    "else:\n",
    "    print(\"Las columnas 'Title' y 'Plot' no están presentes en el dataset.\")\n",
    "    movies = pd.DataFrame()  # Crear un DataFrame vacío si las columnas no existen\n",
    "\n",
    "output_path = os.path.join(base_dir, 'full_movies_data.csv')\n",
    "movies.to_csv(output_path, index=False)\n",
    "print(f\"\\nDataset completo guardado en: {output_path}\")\n"
   ]
  },
  {
   "cell_type": "code",
   "execution_count": 1,
   "metadata": {},
   "outputs": [
    {
     "name": "stderr",
     "output_type": "stream",
     "text": [
      "[nltk_data] Downloading package stopwords to\n",
      "[nltk_data]     C:\\Users\\kale\\AppData\\Roaming\\nltk_data...\n",
      "[nltk_data]   Package stopwords is already up-to-date!\n"
     ]
    },
    {
     "name": "stdout",
     "output_type": "stream",
     "text": [
      "El archivo procesado ha sido guardado como 'archivo_procesado.csv'.\n"
     ]
    }
   ],
   "source": [
    "import csv\n",
    "import string\n",
    "from nltk.corpus import stopwords\n",
    "import nltk\n",
    "\n",
    "# Descargar las stopwords de NLTK si no lo has hecho antes\n",
    "nltk.download('stopwords')\n",
    "\n",
    "# Configuración\n",
    "archivo_original = './data/full_movies_data.csv'\n",
    "archivo_salida = 'archivo_procesado.csv'\n",
    "stop_words = set(stopwords.words('english'))  # Cambia a tu idioma, por ejemplo 'english'\n",
    "\n",
    "# Función para procesar el texto\n",
    "def procesar_texto(texto):\n",
    "    # Convertir a minúsculas\n",
    "    texto = texto.lower()\n",
    "    # Eliminar signos de puntuación\n",
    "    texto = texto.translate(str.maketrans('', '', string.punctuation))\n",
    "    # Eliminar stopwords\n",
    "    palabras = texto.split()\n",
    "    palabras_filtradas = [palabra for palabra in palabras if palabra not in stop_words]\n",
    "    return ' '.join(palabras_filtradas)\n",
    "\n",
    "# Leer el archivo original y procesar\n",
    "with open(archivo_original, mode='r', encoding='utf-8') as entrada:\n",
    "    lector = csv.reader(entrada)\n",
    "    filas_procesadas = [[procesar_texto(celda) for celda in fila] for fila in lector]\n",
    "\n",
    "# Escribir el archivo procesado\n",
    "with open(archivo_salida, mode='w', encoding='utf-8', newline='') as salida:\n",
    "    escritor = csv.writer(salida)\n",
    "    escritor.writerows(filas_procesadas)\n",
    "\n",
    "print(f\"El archivo procesado ha sido guardado como '{archivo_salida}'.\")\n"
   ]
  }
 ],
 "metadata": {
  "kernelspec": {
   "display_name": "Python 3",
   "language": "python",
   "name": "python3"
  },
  "language_info": {
   "codemirror_mode": {
    "name": "ipython",
    "version": 3
   },
   "file_extension": ".py",
   "mimetype": "text/x-python",
   "name": "python",
   "nbconvert_exporter": "python",
   "pygments_lexer": "ipython3",
   "version": "3.11.9"
  }
 },
 "nbformat": 4,
 "nbformat_minor": 2
}
