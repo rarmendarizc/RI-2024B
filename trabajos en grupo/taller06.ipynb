{
 "cells": [
  {
   "cell_type": "markdown",
   "metadata": {},
   "source": [
    "# **Taller 06: Bases de datos Vectoriales**\n",
    "\n",
    "Nombres: Rossy Armendariz, Alejandro Chavez, Wilmer Rivas."
   ]
  },
  {
   "cell_type": "markdown",
   "metadata": {},
   "source": [
    "## Parte 1: Recuperación con TF-IDF"
   ]
  },
  {
   "cell_type": "code",
   "execution_count": null,
   "metadata": {},
   "outputs": [],
   "source": [
    "import pandas as pd\n",
    "from sklearn.feature_extraction.text import TfidfVectorizer\n",
    "from sklearn.metrics.pairwise import cosine_similarity\n",
    "\n",
    "# Leer el archivo CSV que contiene los datos de las películas\n",
    "data = pd.read_csv('./data/wiki_movie_plots_deduped.csv')\n",
    "\n",
    "# Filtrar solo las columnas \"Title\" y \"Plot\" necesarias para el análisis\n",
    "selected_data = data[['Title', 'Plot']]\n",
    "\n",
    "# Visualizar las primeras filas del DataFrame resultante\n",
    "print(selected_data.head())"
   ]
  },
  {
   "cell_type": "code",
   "execution_count": null,
   "metadata": {},
   "outputs": [],
   "source": [
    "# Configuración del vectorizador TF-IDF para procesar el texto\n",
    "tfidf_vectorizer = TfidfVectorizer(stop_words='english')\n",
    "\n",
    "# Generación de la matriz TF-IDF basada en la columna 'Plot'\n",
    "tfidf_matrix = tfidf_vectorizer.fit_transform(selected_data['Plot'])\n",
    "\n",
    "# Definición de la función para ejecutar búsquedas basadas en TF-IDF\n",
    "def tfidf_search(query_text, results_count=5):\n",
    "  \n",
    "    # Transformar la consulta en vector TF-IDF\n",
    "    query_vector = tfidf_vectorizer.transform([query_text])\n",
    "    \n",
    "    # Calcular la similitud entre la consulta y los documentos\n",
    "    similarity_scores = cosine_similarity(query_vector, tfidf_matrix).flatten()\n",
    "    \n",
    "    # Seleccionar los índices de los documentos más relevantes\n",
    "    best_match_indices = similarity_scores.argsort()[-results_count:][::-1]\n",
    "    \n",
    "    # Crear un DataFrame con los resultados\n",
    "    top_results = selected_data.iloc[best_match_indices][['Title', 'Plot']].copy()\n",
    "    top_results['Score'] = similarity_scores[best_match_indices]\n",
    "    \n",
    "    return top_results\n",
    "\n",
    "# Ejemplo de consulta\n",
    "search_query = \"A young boy discovers magic\"\n",
    "search_results = tfidf_search(search_query)\n",
    "\n",
    "# Mostrar los resultados de la búsqueda\n",
    "print(search_results)"
   ]
  },
  {
   "cell_type": "markdown",
   "metadata": {},
   "source": [
    "## Parte 2: Recuperación con BM25"
   ]
  },
  {
   "cell_type": "markdown",
   "metadata": {},
   "source": [
    "%pip install elasticsearch"
   ]
  },
  {
   "cell_type": "code",
   "execution_count": null,
   "metadata": {},
   "outputs": [],
   "source": [
    "from elasticsearch import Elasticsearch\n",
    "from elasticsearch.helpers import bulk\n",
    "import pandas as pd\n",
    "\n",
    "# Establecer conexión con el servidor Elasticsearch\n",
    "elastic_client = Elasticsearch(\"http://localhost:9200\")  # Incluyendo el esquema http\n",
    "\n",
    "# Nombre del índice a manejar\n",
    "index_name = \"movie_plots\"\n",
    "\n",
    "# Verificar si el índice ya existe, y eliminarlo si es necesario\n",
    "if elastic_client.indices.exists(index=index_name):\n",
    "    elastic_client.indices.delete(index=index_name)\n",
    "    print(f\"Índice '{index_name}' eliminado correctamente.\")\n",
    "\n",
    "# Crear un índice nuevo en Elasticsearch\n",
    "elastic_client.indices.create(index=index_name)\n",
    "print(f\"Índice '{index_name}' creado con éxito.\")\n"
   ]
  },
  {
   "cell_type": "code",
   "execution_count": null,
   "metadata": {},
   "outputs": [],
   "source": [
    "# Función para cargar los datos en el índice existente\n",
    "def cargar_datos():\n",
    "    for fila, datos in selected_data.iterrows():  # Usamos el DataFrame filtrado\n",
    "        yield {\n",
    "            \"_index\": index_name,\n",
    "            \"_source\": {\n",
    "                \"Indice\": int(fila),  # Almacena el índice original convertido a un entero\n",
    "                \"Titulo\": datos['Title'],\n",
    "                \"Sinopsis\": datos['Plot']\n",
    "            }\n",
    "        }\n",
    "\n",
    "# Enviar los documentos al índice\n",
    "bulk(elastic_client, cargar_datos())\n",
    "print(\"Proceso de indexación finalizado.\")"
   ]
  },
  {
   "cell_type": "code",
   "execution_count": null,
   "metadata": {},
   "outputs": [],
   "source": [
    "# Función para realizar consultas con BM25\n",
    "def search_bm25(query, top_k=5):\n",
    "    # Construir el cuerpo de la consulta\n",
    "    query_body = {\n",
    "        \"query\": {\n",
    "            \"match\": {\n",
    "                \"Sinopsis\": query  # Cambiar \"Plot\" por \"Sinopsis\" si así se indexaron los datos\n",
    "            }\n",
    "        },\n",
    "        \"size\": top_k  # Limitar el número de resultados\n",
    "    }\n",
    "\n",
    "    # Ejecutar la consulta en Elasticsearch\n",
    "    response = elastic_client.search(index=index_name, body=query_body)\n",
    "\n",
    "    # Crear una lista para almacenar los resultados\n",
    "    results = []\n",
    "    for hit in response['hits']['hits']:\n",
    "        # Asegurarse de manejar el caso en que 'Indice' no exista\n",
    "        results.append({\n",
    "            \"Index\": hit['_source'].get('Indice', None),  # Usar .get() para evitar errores\n",
    "            \"Title\": hit['_source'].get('Titulo', \"Unknown Title\"),\n",
    "            \"Plot\": hit['_source'].get('Sinopsis', \"No Plot Available\"),\n",
    "            \"Score\": hit['_score']  # Puntuación de relevancia\n",
    "        })\n",
    "\n",
    "    # Convertir la lista en un DataFrame\n",
    "    # Usar .set_index solo si \"Index\" tiene valores válidos\n",
    "    df_results = pd.DataFrame(results)\n",
    "    if 'Index' in df_results.columns and df_results['Index'].notnull().all():\n",
    "        df_results = df_results.set_index(\"Index\")\n",
    "    \n",
    "    return df_results\n",
    "\n",
    "# Ejemplo de ejecución\n",
    "query = \"A young boy discovers magic\"  # Texto de búsqueda\n",
    "results = search_bm25(query)  # Recuperar los documentos relevantes\n",
    "print(results)  # Mostrar los resultados\n"
   ]
  },
  {
   "cell_type": "markdown",
   "metadata": {},
   "source": [
    "## Parte 3: Recuperación con FAISS"
   ]
  },
  {
   "cell_type": "markdown",
   "metadata": {},
   "source": [
    "## Parte 4: Recuperación con ChromaDB"
   ]
  },
  {
   "cell_type": "code",
   "execution_count": 2,
   "metadata": {},
   "outputs": [
    {
     "name": "stdout",
     "output_type": "stream",
     "text": [
      "True\n",
      "12.4\n",
      "NVIDIA GeForce RTX 3050 Ti Laptop GPU\n"
     ]
    }
   ],
   "source": [
    "import torch\n",
    "print(torch.cuda.is_available())\n",
    "print(torch.version.cuda)\n",
    "print(torch.cuda.get_device_name(0) if torch.cuda.is_available() else \"No GPU found\")\n"
   ]
  },
  {
   "cell_type": "markdown",
   "metadata": {},
   "source": [
    "Configuración de ChromaDB y embeddings"
   ]
  },
  {
   "cell_type": "code",
   "execution_count": 3,
   "metadata": {},
   "outputs": [
    {
     "name": "stdout",
     "output_type": "stream",
     "text": [
      "Usando el dispositivo: cuda\n",
      "Lote 1 procesado exitosamente.\n",
      "Lote 2 procesado exitosamente.\n",
      "Lote 3 procesado exitosamente.\n",
      "Lote 4 procesado exitosamente.\n",
      "Lote 5 procesado exitosamente.\n",
      "Lote 6 procesado exitosamente.\n",
      "Lote 7 procesado exitosamente.\n",
      "Se han agregado 34886 documentos y generado sus embeddings.\n"
     ]
    }
   ],
   "source": [
    "import pandas as pd\n",
    "import chromadb\n",
    "from chromadb.utils import embedding_functions\n",
    "import torch\n",
    "\n",
    "# Verificar si la GPU está disponible\n",
    "device = \"cuda\" if torch.cuda.is_available() else \"cpu\"\n",
    "print(f\"Usando el dispositivo: {device}\")\n",
    "\n",
    "# Cargar el archivo CSV de películas\n",
    "movies_df = pd.read_csv(\"./wiki_movie_plots_deduped.csv\")\n",
    "\n",
    "# Filtrar campos necesarios\n",
    "movies_df = movies_df[movies_df['Plot'].notna()]  # Eliminar filas con Plot vacío\n",
    "documents = movies_df['Plot'].tolist()  # Lista de las tramas\n",
    "titles = movies_df['Title'].tolist()   # Lista de los títulos\n",
    "\n",
    "# Configurar cliente Chroma\n",
    "client = chromadb.Client()\n",
    "\n",
    "# Crear la función de embeddings con GPU\n",
    "embedding_function = embedding_functions.SentenceTransformerEmbeddingFunction(\n",
    "    model_name=\"all-MiniLM-L6-v2\",  # Modelo eficiente y rápido\n",
    "    device=device  # Especificar el dispositivo (GPU o CPU)\n",
    ")\n",
    "\n",
    "# Crear colección con la función de embeddings configurada\n",
    "collection = client.get_or_create_collection(\n",
    "    name=\"movies_collection\",\n",
    "    embedding_function=embedding_function\n",
    ")\n",
    "\n",
    "# Generar IDs únicos para cada documento\n",
    "ids = [f\"movie_{i}\" for i in range(len(movies_df))]\n",
    "\n",
    "# Dividir los datos en lotes\n",
    "batch_size = 5000  # Tamaño del lote (ajustar según sea necesario)\n",
    "for i in range(0, len(documents), batch_size):\n",
    "    batch_documents = documents[i:i+batch_size]\n",
    "    batch_titles = titles[i:i+batch_size]\n",
    "    batch_ids = ids[i:i+batch_size]\n",
    "    \n",
    "    # Agregar el lote a la colección\n",
    "    collection.add(\n",
    "        documents=batch_documents,  # Tramas del lote\n",
    "        metadatas=[{\"title\": title} for title in batch_titles],  # Metadata del lote\n",
    "        ids=batch_ids  # IDs únicos del lote\n",
    "    )\n",
    "    print(f\"Lote {i // batch_size + 1} procesado exitosamente.\")\n",
    "\n",
    "print(f\"Se han agregado {len(documents)} documentos y generado sus embeddings.\")\n"
   ]
  },
  {
   "cell_type": "markdown",
   "metadata": {},
   "source": [
    "Consulta aplicando ChromaDB"
   ]
  },
  {
   "cell_type": "code",
   "execution_count": 9,
   "metadata": {},
   "outputs": [
    {
     "name": "stdout",
     "output_type": "stream",
     "text": [
      "Resultado 1:\n",
      "Trama: An investigative thriller based on the search for a missing youngster.\n",
      "--------------------------------------------------\n",
      "Resultado 2:\n",
      "Trama: A young boy from the lower caste resorts to petty thefts to make both ends meet after he lost his father at the early age. Once the boy realizes the importance of an education, he begins to improve his life and never looks back. Through diligence and dedication, he climbs the social and political ladder to success.\n",
      "--------------------------------------------------\n",
      "Resultado 3:\n",
      "Trama: Thirteen-year-old Jesse is assigned a school project. A photographic self-portrait intended to portray one’s self without resorting to literal representation. Jesse lives with his parents, Sabi and Tim, in the lefty, middle class Toronto neighbourhood of Riverdale. A quiet and distant only-child with budding artistic aspirations, Jesse is inspired by the assignment to look for excitement and meaning in the world around him. Wielding a newly acquired camera, Jesse sets out to capture his surroundings, but soon realizes the undramatic nature of his family, neighbourhood and existence.\n",
      "Meanwhile, Sabi and Tim find themselves questioning Jesse’s developing character as they watch him abandon his childhood personality and mature into an uncommunicative adolescent. Frustrated by his lack of inspiration, Jesse discovers a book in the school library which advises him: “You can never be a real artist until you have made love to a woman.” Taking the text at face value and with the encouragement of a family friend, Jesse begins to look for incident, both foreign and adult, which leads him to an encounter with his young, female neighbour, Amy. Peering into her window at night, he snaps a quick photograph of her.\n",
      "Days later, the two are inadvertently reunited, allowing Jesse an opportunity to explore his prepubescent fascination with the opposite sex. After a long evening of games, exploration and hypnosis, Jesse awakes with confusion and guilt, unsure whether or not he may have overstepped his boundaries. The question of rape consumes his thoughts and Jesse is left struggling to reconcile his uneasy mind.\n",
      "--------------------------------------------------\n",
      "Resultado 4:\n",
      "Trama: A young scientist search for the mysterious events behind the strange deaths of cattles and bright lights in sky. He sets on a journey to find the truth and fears of something more frightening to come.\n",
      "--------------------------------------------------\n",
      "Resultado 5:\n",
      "Trama: Drama about a 12-year-old boy who fantasises about having enough money to be able to cure his grandmother's serious heart condition. When he finds himself in a haunted house, the mysterious owner 'grants' him one wish - the Midas touch. The boy soon learns that it is more of a curse than a blessing when everything he touches turns into gold.\n",
      "--------------------------------------------------\n"
     ]
    }
   ],
   "source": [
    "# Definir una consulta (puede ser una trama de película o cualquier texto)\n",
    "query = \"A young boy discovers \"\n",
    "\n",
    "# Realizar la consulta en la colección\n",
    "results = collection.query(\n",
    "    query_texts=[query],  # Pasar la consulta como texto\n",
    "    n_results=5  # Número de resultados a devolver\n",
    ")\n",
    "\n",
    "# Mostrar los resultados\n",
    "for i, document in enumerate(results['documents'][0]):  # Accedemos a la lista de documentos en el primer índice\n",
    "    print(f\"Resultado {i + 1}:\")\n",
    "    print(f\"Trama: {document}\")  # Solo mostramos la trama si no hay metadata disponible\n",
    "    print(\"-\" * 50)\n"
   ]
  }
 ],
 "metadata": {
  "kernelspec": {
   "display_name": "Python 3",
   "language": "python",
   "name": "python3"
  },
  "language_info": {
   "codemirror_mode": {
    "name": "ipython",
    "version": 3
   },
   "file_extension": ".py",
   "mimetype": "text/x-python",
   "name": "python",
   "nbconvert_exporter": "python",
   "pygments_lexer": "ipython3",
   "version": "3.10.10"
  }
 },
 "nbformat": 4,
 "nbformat_minor": 2
}
