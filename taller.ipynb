{
 "cells": [
  {
   "cell_type": "code",
   "execution_count": 2,
   "metadata": {},
   "outputs": [
    {
     "name": "stdout",
     "output_type": "stream",
     "text": [
      "True\n",
      "12.4\n",
      "NVIDIA GeForce RTX 3050 Ti Laptop GPU\n"
     ]
    }
   ],
   "source": [
    "import torch\n",
    "print(torch.cuda.is_available())\n",
    "print(torch.version.cuda)\n",
    "print(torch.cuda.get_device_name(0) if torch.cuda.is_available() else \"No GPU found\")\n"
   ]
  },
  {
   "cell_type": "code",
   "execution_count": 3,
   "metadata": {},
   "outputs": [
    {
     "name": "stdout",
     "output_type": "stream",
     "text": [
      "Usando el dispositivo: cuda\n",
      "Lote 1 procesado exitosamente.\n",
      "Lote 2 procesado exitosamente.\n",
      "Lote 3 procesado exitosamente.\n",
      "Lote 4 procesado exitosamente.\n",
      "Lote 5 procesado exitosamente.\n",
      "Lote 6 procesado exitosamente.\n",
      "Lote 7 procesado exitosamente.\n",
      "Se han agregado 34886 documentos y generado sus embeddings.\n"
     ]
    }
   ],
   "source": [
    "import pandas as pd\n",
    "import chromadb\n",
    "from chromadb.utils import embedding_functions\n",
    "import torch\n",
    "\n",
    "# Verificar si la GPU está disponible\n",
    "device = \"cuda\" if torch.cuda.is_available() else \"cpu\"\n",
    "print(f\"Usando el dispositivo: {device}\")\n",
    "\n",
    "# Cargar el archivo CSV de películas\n",
    "movies_df = pd.read_csv(\"./wiki_movie_plots_deduped.csv\")\n",
    "\n",
    "# Filtrar campos necesarios\n",
    "movies_df = movies_df[movies_df['Plot'].notna()]  # Eliminar filas con Plot vacío\n",
    "documents = movies_df['Plot'].tolist()  # Lista de las tramas\n",
    "titles = movies_df['Title'].tolist()   # Lista de los títulos\n",
    "\n",
    "# Configurar cliente Chroma\n",
    "client = chromadb.Client()\n",
    "\n",
    "# Crear la función de embeddings con GPU\n",
    "embedding_function = embedding_functions.SentenceTransformerEmbeddingFunction(\n",
    "    model_name=\"all-MiniLM-L6-v2\",  # Modelo eficiente y rápido\n",
    "    device=device  # Especificar el dispositivo (GPU o CPU)\n",
    ")\n",
    "\n",
    "# Crear colección con la función de embeddings configurada\n",
    "collection = client.get_or_create_collection(\n",
    "    name=\"movies_collection\",\n",
    "    embedding_function=embedding_function\n",
    ")\n",
    "\n",
    "# Generar IDs únicos para cada documento\n",
    "ids = [f\"movie_{i}\" for i in range(len(movies_df))]\n",
    "\n",
    "# Dividir los datos en lotes\n",
    "batch_size = 5000  # Tamaño del lote (ajustar según sea necesario)\n",
    "for i in range(0, len(documents), batch_size):\n",
    "    batch_documents = documents[i:i+batch_size]\n",
    "    batch_titles = titles[i:i+batch_size]\n",
    "    batch_ids = ids[i:i+batch_size]\n",
    "    \n",
    "    # Agregar el lote a la colección\n",
    "    collection.add(\n",
    "        documents=batch_documents,  # Tramas del lote\n",
    "        metadatas=[{\"title\": title} for title in batch_titles],  # Metadata del lote\n",
    "        ids=batch_ids  # IDs únicos del lote\n",
    "    )\n",
    "    print(f\"Lote {i // batch_size + 1} procesado exitosamente.\")\n",
    "\n",
    "print(f\"Se han agregado {len(documents)} documentos y generado sus embeddings.\")\n"
   ]
  },
  {
   "cell_type": "code",
   "execution_count": 9,
   "metadata": {},
   "outputs": [
    {
     "name": "stdout",
     "output_type": "stream",
     "text": [
      "Resultado 1:\n",
      "Trama: An investigative thriller based on the search for a missing youngster.\n",
      "--------------------------------------------------\n",
      "Resultado 2:\n",
      "Trama: A young boy from the lower caste resorts to petty thefts to make both ends meet after he lost his father at the early age. Once the boy realizes the importance of an education, he begins to improve his life and never looks back. Through diligence and dedication, he climbs the social and political ladder to success.\n",
      "--------------------------------------------------\n",
      "Resultado 3:\n",
      "Trama: Thirteen-year-old Jesse is assigned a school project. A photographic self-portrait intended to portray one’s self without resorting to literal representation. Jesse lives with his parents, Sabi and Tim, in the lefty, middle class Toronto neighbourhood of Riverdale. A quiet and distant only-child with budding artistic aspirations, Jesse is inspired by the assignment to look for excitement and meaning in the world around him. Wielding a newly acquired camera, Jesse sets out to capture his surroundings, but soon realizes the undramatic nature of his family, neighbourhood and existence.\n",
      "Meanwhile, Sabi and Tim find themselves questioning Jesse’s developing character as they watch him abandon his childhood personality and mature into an uncommunicative adolescent. Frustrated by his lack of inspiration, Jesse discovers a book in the school library which advises him: “You can never be a real artist until you have made love to a woman.” Taking the text at face value and with the encouragement of a family friend, Jesse begins to look for incident, both foreign and adult, which leads him to an encounter with his young, female neighbour, Amy. Peering into her window at night, he snaps a quick photograph of her.\n",
      "Days later, the two are inadvertently reunited, allowing Jesse an opportunity to explore his prepubescent fascination with the opposite sex. After a long evening of games, exploration and hypnosis, Jesse awakes with confusion and guilt, unsure whether or not he may have overstepped his boundaries. The question of rape consumes his thoughts and Jesse is left struggling to reconcile his uneasy mind.\n",
      "--------------------------------------------------\n",
      "Resultado 4:\n",
      "Trama: A young scientist search for the mysterious events behind the strange deaths of cattles and bright lights in sky. He sets on a journey to find the truth and fears of something more frightening to come.\n",
      "--------------------------------------------------\n",
      "Resultado 5:\n",
      "Trama: Drama about a 12-year-old boy who fantasises about having enough money to be able to cure his grandmother's serious heart condition. When he finds himself in a haunted house, the mysterious owner 'grants' him one wish - the Midas touch. The boy soon learns that it is more of a curse than a blessing when everything he touches turns into gold.\n",
      "--------------------------------------------------\n"
     ]
    }
   ],
   "source": [
    "# Definir una consulta (puede ser una trama de película o cualquier texto)\n",
    "query = \"A young boy discovers \"\n",
    "\n",
    "# Realizar la consulta en la colección\n",
    "results = collection.query(\n",
    "    query_texts=[query],  # Pasar la consulta como texto\n",
    "    n_results=5  # Número de resultados a devolver\n",
    ")\n",
    "\n",
    "# Mostrar los resultados\n",
    "for i, document in enumerate(results['documents'][0]):  # Accedemos a la lista de documentos en el primer índice\n",
    "    print(f\"Resultado {i + 1}:\")\n",
    "    print(f\"Trama: {document}\")  # Solo mostramos la trama si no hay metadata disponible\n",
    "    print(\"-\" * 50)\n"
   ]
  }
 ],
 "metadata": {
  "kernelspec": {
   "display_name": "Python 3",
   "language": "python",
   "name": "python3"
  },
  "language_info": {
   "codemirror_mode": {
    "name": "ipython",
    "version": 3
   },
   "file_extension": ".py",
   "mimetype": "text/x-python",
   "name": "python",
   "nbconvert_exporter": "python",
   "pygments_lexer": "ipython3",
   "version": "3.13.1"
  }
 },
 "nbformat": 4,
 "nbformat_minor": 2
}
